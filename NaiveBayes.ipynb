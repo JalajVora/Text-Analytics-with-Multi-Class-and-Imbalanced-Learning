{
 "cells": [
  {
   "cell_type": "code",
   "execution_count": 72,
   "metadata": {},
   "outputs": [],
   "source": [
    "from sklearn.model_selection import train_test_split\n",
    "from sklearn.naive_bayes import GaussianNB\n",
    "import pandas as pd\n",
    "import matplotlib.pyplot as plt\n",
    "from sklearn.metrics import classification_report\n",
    "import seaborn as sns\n",
    "import matplotlib.pyplot as plt\n",
    "import numpy as npfrom \n",
    "from sklearn import metrics"
   ]
  },
  {
   "cell_type": "code",
   "execution_count": 73,
   "metadata": {},
   "outputs": [],
   "source": [
    "feature_collection = pd.read_csv('feature_collection.csv', index_col='book_id')"
   ]
  },
  {
   "cell_type": "code",
   "execution_count": 74,
   "metadata": {},
   "outputs": [],
   "source": [
    " feature_collection = feature_collection.dropna()"
   ]
  },
  {
   "cell_type": "code",
   "execution_count": 75,
   "metadata": {},
   "outputs": [
    {
     "name": "stdout",
     "output_type": "stream",
     "text": [
      "could not load corpus.csv. Will create corpus from html files.\n"
     ]
    },
    {
     "data": {
      "text/html": [
       "<div>\n",
       "<style scoped>\n",
       "    .dataframe tbody tr th:only-of-type {\n",
       "        vertical-align: middle;\n",
       "    }\n",
       "\n",
       "    .dataframe tbody tr th {\n",
       "        vertical-align: top;\n",
       "    }\n",
       "\n",
       "    .dataframe thead th {\n",
       "        text-align: right;\n",
       "    }\n",
       "</style>\n",
       "<table border=\"1\" class=\"dataframe\">\n",
       "  <thead>\n",
       "    <tr style=\"text-align: right;\">\n",
       "      <th></th>\n",
       "      <th>Book_Name</th>\n",
       "      <th>guten_genre</th>\n",
       "      <th>Author_Name</th>\n",
       "      <th>content</th>\n",
       "    </tr>\n",
       "    <tr>\n",
       "      <th>book_id</th>\n",
       "      <th></th>\n",
       "      <th></th>\n",
       "      <th></th>\n",
       "      <th></th>\n",
       "    </tr>\n",
       "  </thead>\n",
       "  <tbody>\n",
       "    <tr>\n",
       "      <th>pg10067</th>\n",
       "      <td>The Mystery of the Boule Cabinet: A Detective ...</td>\n",
       "      <td>Detective and Mystery</td>\n",
       "      <td>Stevenson| Burton Egbert</td>\n",
       "      <td>A Detective Story\n",
       "A.B.M. Fellow-Sherlockian\n",
       "\"H...</td>\n",
       "    </tr>\n",
       "    <tr>\n",
       "      <th>pg1032</th>\n",
       "      <td>The Pupil</td>\n",
       "      <td>Literary</td>\n",
       "      <td>James| Henry</td>\n",
       "      <td>This edition first published 1916\n",
       "The text fol...</td>\n",
       "    </tr>\n",
       "    <tr>\n",
       "      <th>pg10379</th>\n",
       "      <td>At Love's Cost</td>\n",
       "      <td>Literary</td>\n",
       "      <td>Garvice| Charles</td>\n",
       "      <td>\"Until this moment I have never fully realised...</td>\n",
       "    </tr>\n",
       "    <tr>\n",
       "      <th>pg10473</th>\n",
       "      <td>The Heart of the Range</td>\n",
       "      <td>Western Stories</td>\n",
       "      <td>White| William Patterson</td>\n",
       "      <td>\"The Rider of Golden Bar,\" \"Hidden Trails,\" \"L...</td>\n",
       "    </tr>\n",
       "    <tr>\n",
       "      <th>pg10812</th>\n",
       "      <td>The Worshipper of the Image</td>\n",
       "      <td>Literary</td>\n",
       "      <td>Gallienne| Richard Le</td>\n",
       "      <td>The Worshipper of the Image\n",
       "Evening was in the...</td>\n",
       "    </tr>\n",
       "    <tr>\n",
       "      <th>...</th>\n",
       "      <td>...</td>\n",
       "      <td>...</td>\n",
       "      <td>...</td>\n",
       "      <td>...</td>\n",
       "    </tr>\n",
       "    <tr>\n",
       "      <th>pg766DickensDavidCopfld</th>\n",
       "      <td>David Copperfield</td>\n",
       "      <td>Literary</td>\n",
       "      <td>Dickens| Charles</td>\n",
       "      <td>I do not find it easy to get sufficiently far ...</td>\n",
       "    </tr>\n",
       "    <tr>\n",
       "      <th>pg786DickensHardTimes</th>\n",
       "      <td>Hard Times</td>\n",
       "      <td>Literary</td>\n",
       "      <td>Dickens| Charles</td>\n",
       "      <td>The One Thing Needful\n",
       "Murdering the Innocents\n",
       "...</td>\n",
       "    </tr>\n",
       "    <tr>\n",
       "      <th>pg834DoyleMemoirsSherlk</th>\n",
       "      <td>Memoirs of Shelock Holmes</td>\n",
       "      <td>Detective and Mystery</td>\n",
       "      <td>Connan| Doyle</td>\n",
       "      <td>\"I am afraid, Watson, that I shall have to go,...</td>\n",
       "    </tr>\n",
       "    <tr>\n",
       "      <th>pg863Agatha1</th>\n",
       "      <td>The Mysterious Affair at Styles</td>\n",
       "      <td>Detective and Mystery</td>\n",
       "      <td>Christie| Agatha</td>\n",
       "      <td>The intense interest aroused in the public by ...</td>\n",
       "    </tr>\n",
       "    <tr>\n",
       "      <th>pg98DickensTaleCities</th>\n",
       "      <td>A Tale of Two Cities</td>\n",
       "      <td>Literary</td>\n",
       "      <td>Dickens| Charles</td>\n",
       "      <td>!!!!  Book the First - Recalled to Life I.   T...</td>\n",
       "    </tr>\n",
       "  </tbody>\n",
       "</table>\n",
       "<p>996 rows × 4 columns</p>\n",
       "</div>"
      ],
      "text/plain": [
       "                                                                 Book_Name  \\\n",
       "book_id                                                                      \n",
       "pg10067                  The Mystery of the Boule Cabinet: A Detective ...   \n",
       "pg1032                                                           The Pupil   \n",
       "pg10379                                                     At Love's Cost   \n",
       "pg10473                                             The Heart of the Range   \n",
       "pg10812                                        The Worshipper of the Image   \n",
       "...                                                                    ...   \n",
       "pg766DickensDavidCopfld                                  David Copperfield   \n",
       "pg786DickensHardTimes                                           Hard Times   \n",
       "pg834DoyleMemoirsSherlk                          Memoirs of Shelock Holmes   \n",
       "pg863Agatha1                               The Mysterious Affair at Styles   \n",
       "pg98DickensTaleCities                                 A Tale of Two Cities   \n",
       "\n",
       "                                   guten_genre               Author_Name  \\\n",
       "book_id                                                                    \n",
       "pg10067                  Detective and Mystery  Stevenson| Burton Egbert   \n",
       "pg1032                                Literary              James| Henry   \n",
       "pg10379                               Literary          Garvice| Charles   \n",
       "pg10473                        Western Stories  White| William Patterson   \n",
       "pg10812                               Literary     Gallienne| Richard Le   \n",
       "...                                        ...                       ...   \n",
       "pg766DickensDavidCopfld               Literary          Dickens| Charles   \n",
       "pg786DickensHardTimes                 Literary          Dickens| Charles   \n",
       "pg834DoyleMemoirsSherlk  Detective and Mystery             Connan| Doyle   \n",
       "pg863Agatha1             Detective and Mystery          Christie| Agatha   \n",
       "pg98DickensTaleCities                 Literary          Dickens| Charles   \n",
       "\n",
       "                                                                   content  \n",
       "book_id                                                                     \n",
       "pg10067                  A Detective Story\n",
       "A.B.M. Fellow-Sherlockian\n",
       "\"H...  \n",
       "pg1032                   This edition first published 1916\n",
       "The text fol...  \n",
       "pg10379                  \"Until this moment I have never fully realised...  \n",
       "pg10473                  \"The Rider of Golden Bar,\" \"Hidden Trails,\" \"L...  \n",
       "pg10812                  The Worshipper of the Image\n",
       "Evening was in the...  \n",
       "...                                                                    ...  \n",
       "pg766DickensDavidCopfld  I do not find it easy to get sufficiently far ...  \n",
       "pg786DickensHardTimes    The One Thing Needful\n",
       "Murdering the Innocents\n",
       "...  \n",
       "pg834DoyleMemoirsSherlk  \"I am afraid, Watson, that I shall have to go,...  \n",
       "pg863Agatha1             The intense interest aroused in the public by ...  \n",
       "pg98DickensTaleCities    !!!!  Book the First - Recalled to Life I.   T...  \n",
       "\n",
       "[996 rows x 4 columns]"
      ]
     },
     "execution_count": 75,
     "metadata": {},
     "output_type": "execute_result"
    }
   ],
   "source": [
    "from corpus import load_corpus, save_corpus\n",
    "corpus = load_corpus()\n",
    "corpus = corpus.astype({\n",
    "  'Book_Name': 'string',\n",
    "  'guten_genre': 'category',\n",
    "  'Author_Name': 'string',\n",
    "  'content': 'string'\n",
    "})\n",
    "corpus.dropna(inplace=True)\n",
    "corpus"
   ]
  },
  {
   "cell_type": "code",
   "execution_count": 76,
   "metadata": {},
   "outputs": [],
   "source": [
    "feature_collection['genre'] = corpus['guten_genre']"
   ]
  },
  {
   "cell_type": "code",
   "execution_count": 77,
   "metadata": {},
   "outputs": [
    {
     "data": {
      "text/plain": [
       "Index(['title_word_count', 'title_avg_word_length', '._count', '!_count',\n",
       "       '?_count', ',_count', '``_count', 'length', 'proper_names',\n",
       "       'pos_sentiment', 'neu_sentiment', 'neg_sentiment', 'point_of_view',\n",
       "       'genre'],\n",
       "      dtype='object')"
      ]
     },
     "execution_count": 77,
     "metadata": {},
     "output_type": "execute_result"
    }
   ],
   "source": [
    "feature_collection.columns"
   ]
  },
  {
   "cell_type": "code",
   "execution_count": 78,
   "metadata": {},
   "outputs": [],
   "source": [
    "di = {'Allegories' : 0, 'Christmas Stories' :1, 'Detective and Mystery' :2,\n",
    "                 'Ghost and Horror':3,'Humorous and Wit and Satire' :4,\n",
    "                 'Literary' :5,'Love and Romance' :6,'Sea and Adventure' :7,\n",
    "                 'Western Stories' :8}"
   ]
  },
  {
   "cell_type": "code",
   "execution_count": 79,
   "metadata": {},
   "outputs": [],
   "source": [
    "df = feature_collection.replace({'genre': di})"
   ]
  },
  {
   "cell_type": "code",
   "execution_count": 80,
   "metadata": {},
   "outputs": [],
   "source": [
    "#df[['title_word_count', 'length', 'genre']] = df[['title_word_count', 'length', 'genre']].astype(float)"
   ]
  },
  {
   "cell_type": "code",
   "execution_count": 81,
   "metadata": {},
   "outputs": [],
   "source": [
    "X = df[['title_word_count', 'title_avg_word_length', '._count', '!_count',\n",
    "       '?_count', ',_count', '``_count', 'length', 'proper_names',\n",
    "       'pos_sentiment', 'neu_sentiment', 'neg_sentiment', 'point_of_view']]\n",
    "\n",
    "y = df['genre']"
   ]
  },
  {
   "cell_type": "code",
   "execution_count": 86,
   "metadata": {},
   "outputs": [],
   "source": [
    "X_train, X_test, y_train, y_test = train_test_split(X, y, test_size=1/3, random_state=0, stratify=y)"
   ]
  },
  {
   "cell_type": "code",
   "execution_count": 87,
   "metadata": {},
   "outputs": [],
   "source": [
    "gnb = GaussianNB()\n",
    "\n",
    "y_pred = gnb.fit(X_train, y_train).predict(X_test)"
   ]
  },
  {
   "cell_type": "code",
   "execution_count": 88,
   "metadata": {},
   "outputs": [
    {
     "name": "stdout",
     "output_type": "stream",
     "text": [
      "              precision    recall  f1-score   support\n",
      "\n",
      "           0       0.00      0.00      0.00         0\n",
      "           1       0.00      0.00      0.00         0\n",
      "           2       0.00      0.00      0.00         0\n",
      "           3       0.00      0.00      0.00         4\n",
      "           4       0.00      0.00      0.00         0\n",
      "           5       0.98      0.79      0.88       327\n",
      "           6       0.00      0.00      0.00         0\n",
      "           7       0.00      0.00      0.00         0\n",
      "           8       0.00      0.00      0.00         0\n",
      "\n",
      "    accuracy                           0.78       331\n",
      "   macro avg       0.11      0.09      0.10       331\n",
      "weighted avg       0.97      0.78      0.87       331\n",
      "\n"
     ]
    },
    {
     "name": "stderr",
     "output_type": "stream",
     "text": [
      "C:\\Users\\Rob\\anaconda3\\lib\\site-packages\\sklearn\\metrics\\_classification.py:1272: UndefinedMetricWarning: Recall and F-score are ill-defined and being set to 0.0 in labels with no true samples. Use `zero_division` parameter to control this behavior.\n",
      "  _warn_prf(average, modifier, msg_start, len(result))\n"
     ]
    }
   ],
   "source": [
    "print(classification_report(y_pred, y_test))"
   ]
  },
  {
   "cell_type": "code",
   "execution_count": 89,
   "metadata": {},
   "outputs": [
    {
     "name": "stdout",
     "output_type": "stream",
     "text": [
      "0.7824773413897281\n"
     ]
    },
    {
     "data": {
      "image/png": "[encoded data removed]",
      "text/plain": [
       "<Figure size 432x288 with 2 Axes>"
      ]
     },
     "metadata": {
      "needs_background": "light"
     },
     "output_type": "display_data"
    }
   ],
   "source": [
    "confusion_matrix = pd.crosstab(y_test, y_pred, rownames=['Actual'], colnames=['Predicted'])\n",
    "sns.heatmap(confusion_matrix, annot=True)\n",
    "print(metrics.accuracy_score(y_test, y_pred))\n",
    "plt.show()"
   ]
  },
  {
   "cell_type": "code",
   "execution_count": 90,
   "metadata": {},
   "outputs": [],
   "source": [
    "from imblearn.over_sampling import RandomOverSampler\n",
    "ros = RandomOverSampler(random_state=0)\n",
    "X_resampled, y_resampled = ros.fit_resample(X_train, y_train)"
   ]
  },
  {
   "cell_type": "code",
   "execution_count": 91,
   "metadata": {},
   "outputs": [],
   "source": [
    "gnb = GaussianNB()\n",
    "\n",
    "y_pred_r = gnb.fit(X_resampled, y_resampled).predict(X_test)"
   ]
  },
  {
   "cell_type": "code",
   "execution_count": 92,
   "metadata": {},
   "outputs": [
    {
     "name": "stdout",
     "output_type": "stream",
     "text": [
      "              precision    recall  f1-score   support\n",
      "\n",
      "           0       0.00      0.00      0.00         0\n",
      "           1       1.00      0.12      0.21        17\n",
      "           2       0.49      0.17      0.25       106\n",
      "           3       0.00      0.00      0.00        79\n",
      "           4       0.00      0.00      0.00        64\n",
      "           5       0.02      1.00      0.03         4\n",
      "           6       0.17      0.02      0.03        57\n",
      "           7       0.00      0.00      0.00         3\n",
      "           8       0.00      0.00      0.00         1\n",
      "\n",
      "    accuracy                           0.08       331\n",
      "   macro avg       0.19      0.15      0.06       331\n",
      "weighted avg       0.24      0.08      0.10       331\n",
      "\n"
     ]
    },
    {
     "name": "stderr",
     "output_type": "stream",
     "text": [
      "C:\\Users\\Rob\\anaconda3\\lib\\site-packages\\sklearn\\metrics\\_classification.py:1272: UndefinedMetricWarning: Recall and F-score are ill-defined and being set to 0.0 in labels with no true samples. Use `zero_division` parameter to control this behavior.\n",
      "  _warn_prf(average, modifier, msg_start, len(result))\n"
     ]
    }
   ],
   "source": [
    "print(classification_report(y_pred_r, y_test))"
   ]
  },
  {
   "cell_type": "code",
   "execution_count": 94,
   "metadata": {},
   "outputs": [
    {
     "name": "stdout",
     "output_type": "stream",
     "text": [
      "0.0755287009063444\n"
     ]
    },
    {
     "data": {
      "image/png": "[encoded data removed]",
      "text/plain": [
       "<Figure size 432x288 with 2 Axes>"
      ]
     },
     "metadata": {
      "needs_background": "light"
     },
     "output_type": "display_data"
    }
   ],
   "source": [
    "confusion_matrix = pd.crosstab(y_test, y_pred_r, rownames=['Actual'], colnames=['Predicted'])\n",
    "sns.heatmap(confusion_matrix, annot=True)\n",
    "print(metrics.accuracy_score(y_test, y_pred_r))\n",
    "plt.show()"
   ]
  },
  {
   "cell_type": "code",
   "execution_count": null,
   "metadata": {},
   "outputs": [],
   "source": []
  }
 ],
 "metadata": {
  "kernelspec": {
   "display_name": "Python 3",
   "language": "python",
   "name": "python3"
  },
  "language_info": {
   "codemirror_mode": {
    "name": "ipython",
    "version": 3
   },
   "file_extension": ".py",
   "mimetype": "text/x-python",
   "name": "python",
   "nbconvert_exporter": "python",
   "pygments_lexer": "ipython3",
   "version": "3.7.6"
  }
 },
 "nbformat": 4,
 "nbformat_minor": 4
}
