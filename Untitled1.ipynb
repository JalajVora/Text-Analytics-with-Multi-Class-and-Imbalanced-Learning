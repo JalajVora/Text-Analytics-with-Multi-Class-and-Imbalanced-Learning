{
 "cells": [
  {
   "cell_type": "code",
   "execution_count": 15,
   "metadata": {},
   "outputs": [],
   "source": [
    "from sklearn.model_selection import train_test_split\n",
    "from sklearn.naive_bayes import GaussianNB\n",
    "import pandas as pd\n",
    "import matplotlib.pyplot as plt\n",
    "from sklearn.metrics import classification_report\n",
    "import seaborn as sns\n",
    "import matplotlib.pyplot as plt\n",
    "import numpy as np\n",
    "from sklearn import metrics\n",
    "from imblearn.under_sampling import RandomUnderSampler\n",
    "import nltk\n",
    "from sklearn.feature_extraction.text import TfidfVectorizer, CountVectorizer\n",
    "from tqdm import tqdm\n",
    "from sklearn import preprocessing\n",
    "from keras.preprocessing import text, sequence\n",
    "from sklearn.decomposition import LatentDirichletAllocation as LDA\n",
    "from sklearn import decomposition\n",
    "from gensim.models import Word2Vec\n",
    "import gensim"
   ]
  },
  {
   "cell_type": "code",
   "execution_count": 3,
   "metadata": {},
   "outputs": [
    {
     "data": {
      "text/html": [
       "<div>\n",
       "<style scoped>\n",
       "    .dataframe tbody tr th:only-of-type {\n",
       "        vertical-align: middle;\n",
       "    }\n",
       "\n",
       "    .dataframe tbody tr th {\n",
       "        vertical-align: top;\n",
       "    }\n",
       "\n",
       "    .dataframe thead th {\n",
       "        text-align: right;\n",
       "    }\n",
       "</style>\n",
       "<table border=\"1\" class=\"dataframe\">\n",
       "  <thead>\n",
       "    <tr style=\"text-align: right;\">\n",
       "      <th></th>\n",
       "      <th>Book_Name</th>\n",
       "      <th>guten_genre</th>\n",
       "      <th>Author_Name</th>\n",
       "      <th>content</th>\n",
       "      <th>tokens</th>\n",
       "    </tr>\n",
       "    <tr>\n",
       "      <th>book_id</th>\n",
       "      <th></th>\n",
       "      <th></th>\n",
       "      <th></th>\n",
       "      <th></th>\n",
       "      <th></th>\n",
       "    </tr>\n",
       "  </thead>\n",
       "  <tbody>\n",
       "    <tr>\n",
       "      <th>pg10067</th>\n",
       "      <td>The Mystery of the Boule Cabinet: A Detective ...</td>\n",
       "      <td>Detective and Mystery</td>\n",
       "      <td>Stevenson| Burton Egbert</td>\n",
       "      <td>A Detective Story\n",
       "A.B.M. Fellow-Sherlockian\n",
       "\"H...</td>\n",
       "      <td>['A', 'Detective', 'Story', 'A.B.M', '.', 'Fel...</td>\n",
       "    </tr>\n",
       "    <tr>\n",
       "      <th>pg1032</th>\n",
       "      <td>The Pupil</td>\n",
       "      <td>Literary</td>\n",
       "      <td>James| Henry</td>\n",
       "      <td>This edition first published 1916\n",
       "The text fol...</td>\n",
       "      <td>['This', 'edition', 'first', 'published', '191...</td>\n",
       "    </tr>\n",
       "    <tr>\n",
       "      <th>pg10379</th>\n",
       "      <td>At Love's Cost</td>\n",
       "      <td>Literary</td>\n",
       "      <td>Garvice| Charles</td>\n",
       "      <td>\"Until this moment I have never fully realised...</td>\n",
       "      <td>['``', 'Until', 'this', 'moment', 'I', 'have',...</td>\n",
       "    </tr>\n",
       "    <tr>\n",
       "      <th>pg10473</th>\n",
       "      <td>The Heart of the Range</td>\n",
       "      <td>Western Stories</td>\n",
       "      <td>White| William Patterson</td>\n",
       "      <td>\"The Rider of Golden Bar,\" \"Hidden Trails,\" \"L...</td>\n",
       "      <td>['``', 'The', 'Rider', 'of', 'Golden', 'Bar', ...</td>\n",
       "    </tr>\n",
       "    <tr>\n",
       "      <th>pg10812</th>\n",
       "      <td>The Worshipper of the Image</td>\n",
       "      <td>Literary</td>\n",
       "      <td>Gallienne| Richard Le</td>\n",
       "      <td>The Worshipper of the Image\n",
       "Evening was in the...</td>\n",
       "      <td>['The', 'Worshipper', 'of', 'the', 'Image', 'E...</td>\n",
       "    </tr>\n",
       "    <tr>\n",
       "      <th>...</th>\n",
       "      <td>...</td>\n",
       "      <td>...</td>\n",
       "      <td>...</td>\n",
       "      <td>...</td>\n",
       "      <td>...</td>\n",
       "    </tr>\n",
       "    <tr>\n",
       "      <th>pg766DickensDavidCopfld</th>\n",
       "      <td>David Copperfield</td>\n",
       "      <td>Literary</td>\n",
       "      <td>Dickens| Charles</td>\n",
       "      <td>I do not find it easy to get sufficiently far ...</td>\n",
       "      <td>['I', 'do', 'not', 'find', 'it', 'easy', 'to',...</td>\n",
       "    </tr>\n",
       "    <tr>\n",
       "      <th>pg786DickensHardTimes</th>\n",
       "      <td>Hard Times</td>\n",
       "      <td>Literary</td>\n",
       "      <td>Dickens| Charles</td>\n",
       "      <td>The One Thing Needful\n",
       "Murdering the Innocents\n",
       "...</td>\n",
       "      <td>['The', 'One', 'Thing', 'Needful', 'Murdering'...</td>\n",
       "    </tr>\n",
       "    <tr>\n",
       "      <th>pg834DoyleMemoirsSherlk</th>\n",
       "      <td>Memoirs of Shelock Holmes</td>\n",
       "      <td>Detective and Mystery</td>\n",
       "      <td>Connan| Doyle</td>\n",
       "      <td>\"I am afraid, Watson, that I shall have to go,...</td>\n",
       "      <td>['``', 'I', 'am', 'afraid', ',', 'Watson', ','...</td>\n",
       "    </tr>\n",
       "    <tr>\n",
       "      <th>pg863Agatha1</th>\n",
       "      <td>The Mysterious Affair at Styles</td>\n",
       "      <td>Detective and Mystery</td>\n",
       "      <td>Christie| Agatha</td>\n",
       "      <td>The intense interest aroused in the public by ...</td>\n",
       "      <td>['The', 'intense', 'interest', 'aroused', 'in'...</td>\n",
       "    </tr>\n",
       "    <tr>\n",
       "      <th>pg98DickensTaleCities</th>\n",
       "      <td>A Tale of Two Cities</td>\n",
       "      <td>Literary</td>\n",
       "      <td>Dickens| Charles</td>\n",
       "      <td>!!!!  Book the First - Recalled to Life I.   T...</td>\n",
       "      <td>['!', '!', '!', '!', 'Book', 'the', 'First', '...</td>\n",
       "    </tr>\n",
       "  </tbody>\n",
       "</table>\n",
       "<p>994 rows × 5 columns</p>\n",
       "</div>"
      ],
      "text/plain": [
       "                                                                 Book_Name  \\\n",
       "book_id                                                                      \n",
       "pg10067                  The Mystery of the Boule Cabinet: A Detective ...   \n",
       "pg1032                                                           The Pupil   \n",
       "pg10379                                                     At Love's Cost   \n",
       "pg10473                                             The Heart of the Range   \n",
       "pg10812                                        The Worshipper of the Image   \n",
       "...                                                                    ...   \n",
       "pg766DickensDavidCopfld                                  David Copperfield   \n",
       "pg786DickensHardTimes                                           Hard Times   \n",
       "pg834DoyleMemoirsSherlk                          Memoirs of Shelock Holmes   \n",
       "pg863Agatha1                               The Mysterious Affair at Styles   \n",
       "pg98DickensTaleCities                                 A Tale of Two Cities   \n",
       "\n",
       "                                   guten_genre               Author_Name  \\\n",
       "book_id                                                                    \n",
       "pg10067                  Detective and Mystery  Stevenson| Burton Egbert   \n",
       "pg1032                                Literary              James| Henry   \n",
       "pg10379                               Literary          Garvice| Charles   \n",
       "pg10473                        Western Stories  White| William Patterson   \n",
       "pg10812                               Literary     Gallienne| Richard Le   \n",
       "...                                        ...                       ...   \n",
       "pg766DickensDavidCopfld               Literary          Dickens| Charles   \n",
       "pg786DickensHardTimes                 Literary          Dickens| Charles   \n",
       "pg834DoyleMemoirsSherlk  Detective and Mystery             Connan| Doyle   \n",
       "pg863Agatha1             Detective and Mystery          Christie| Agatha   \n",
       "pg98DickensTaleCities                 Literary          Dickens| Charles   \n",
       "\n",
       "                                                                   content  \\\n",
       "book_id                                                                      \n",
       "pg10067                  A Detective Story\n",
       "A.B.M. Fellow-Sherlockian\n",
       "\"H...   \n",
       "pg1032                   This edition first published 1916\n",
       "The text fol...   \n",
       "pg10379                  \"Until this moment I have never fully realised...   \n",
       "pg10473                  \"The Rider of Golden Bar,\" \"Hidden Trails,\" \"L...   \n",
       "pg10812                  The Worshipper of the Image\n",
       "Evening was in the...   \n",
       "...                                                                    ...   \n",
       "pg766DickensDavidCopfld  I do not find it easy to get sufficiently far ...   \n",
       "pg786DickensHardTimes    The One Thing Needful\n",
       "Murdering the Innocents\n",
       "...   \n",
       "pg834DoyleMemoirsSherlk  \"I am afraid, Watson, that I shall have to go,...   \n",
       "pg863Agatha1             The intense interest aroused in the public by ...   \n",
       "pg98DickensTaleCities    !!!!  Book the First - Recalled to Life I.   T...   \n",
       "\n",
       "                                                                    tokens  \n",
       "book_id                                                                     \n",
       "pg10067                  ['A', 'Detective', 'Story', 'A.B.M', '.', 'Fel...  \n",
       "pg1032                   ['This', 'edition', 'first', 'published', '191...  \n",
       "pg10379                  ['``', 'Until', 'this', 'moment', 'I', 'have',...  \n",
       "pg10473                  ['``', 'The', 'Rider', 'of', 'Golden', 'Bar', ...  \n",
       "pg10812                  ['The', 'Worshipper', 'of', 'the', 'Image', 'E...  \n",
       "...                                                                    ...  \n",
       "pg766DickensDavidCopfld  ['I', 'do', 'not', 'find', 'it', 'easy', 'to',...  \n",
       "pg786DickensHardTimes    ['The', 'One', 'Thing', 'Needful', 'Murdering'...  \n",
       "pg834DoyleMemoirsSherlk  ['``', 'I', 'am', 'afraid', ',', 'Watson', ','...  \n",
       "pg863Agatha1             ['The', 'intense', 'interest', 'aroused', 'in'...  \n",
       "pg98DickensTaleCities    ['!', '!', '!', '!', 'Book', 'the', 'First', '...  \n",
       "\n",
       "[994 rows x 5 columns]"
      ]
     },
     "execution_count": 3,
     "metadata": {},
     "output_type": "execute_result"
    }
   ],
   "source": [
    "from corpus import load_corpus, save_corpus\n",
    "corpus = load_corpus()\n",
    "corpus = corpus.astype({\n",
    "  'Book_Name': 'string',\n",
    "  'guten_genre': 'category',\n",
    "  'Author_Name': 'string',\n",
    "  'content': 'string'\n",
    "})\n",
    "corpus.dropna(inplace=True)\n",
    "corpus"
   ]
  },
  {
   "cell_type": "code",
   "execution_count": 4,
   "metadata": {},
   "outputs": [
    {
     "data": {
      "text/plain": [
       "994"
      ]
     },
     "execution_count": 4,
     "metadata": {},
     "output_type": "execute_result"
    }
   ],
   "source": [
    "len(corpus.index)"
   ]
  },
  {
   "cell_type": "code",
   "execution_count": 5,
   "metadata": {},
   "outputs": [
    {
     "data": {
      "text/plain": [
       "<bound method NDFrame.astype of                                                                  Book_Name  \\\n",
       "book_id                                                                      \n",
       "pg10067                  The Mystery of the Boule Cabinet: A Detective ...   \n",
       "pg1032                                                           The Pupil   \n",
       "pg10379                                                     At Love's Cost   \n",
       "pg10473                                             The Heart of the Range   \n",
       "pg10812                                        The Worshipper of the Image   \n",
       "...                                                                    ...   \n",
       "pg766DickensDavidCopfld                                  David Copperfield   \n",
       "pg786DickensHardTimes                                           Hard Times   \n",
       "pg834DoyleMemoirsSherlk                          Memoirs of Shelock Holmes   \n",
       "pg863Agatha1                               The Mysterious Affair at Styles   \n",
       "pg98DickensTaleCities                                 A Tale of Two Cities   \n",
       "\n",
       "                                   guten_genre               Author_Name  \\\n",
       "book_id                                                                    \n",
       "pg10067                  Detective and Mystery  Stevenson| Burton Egbert   \n",
       "pg1032                                Literary              James| Henry   \n",
       "pg10379                               Literary          Garvice| Charles   \n",
       "pg10473                        Western Stories  White| William Patterson   \n",
       "pg10812                               Literary     Gallienne| Richard Le   \n",
       "...                                        ...                       ...   \n",
       "pg766DickensDavidCopfld               Literary          Dickens| Charles   \n",
       "pg786DickensHardTimes                 Literary          Dickens| Charles   \n",
       "pg834DoyleMemoirsSherlk  Detective and Mystery             Connan| Doyle   \n",
       "pg863Agatha1             Detective and Mystery          Christie| Agatha   \n",
       "pg98DickensTaleCities                 Literary          Dickens| Charles   \n",
       "\n",
       "                                                                   content  \\\n",
       "book_id                                                                      \n",
       "pg10067                  A Detective Story\n",
       "A.B.M. Fellow-Sherlockian\n",
       "\"H...   \n",
       "pg1032                   This edition first published 1916\n",
       "The text fol...   \n",
       "pg10379                  \"Until this moment I have never fully realised...   \n",
       "pg10473                  \"The Rider of Golden Bar,\" \"Hidden Trails,\" \"L...   \n",
       "pg10812                  The Worshipper of the Image\n",
       "Evening was in the...   \n",
       "...                                                                    ...   \n",
       "pg766DickensDavidCopfld  I do not find it easy to get sufficiently far ...   \n",
       "pg786DickensHardTimes    The One Thing Needful\n",
       "Murdering the Innocents\n",
       "...   \n",
       "pg834DoyleMemoirsSherlk  \"I am afraid, Watson, that I shall have to go,...   \n",
       "pg863Agatha1             The intense interest aroused in the public by ...   \n",
       "pg98DickensTaleCities    !!!!  Book the First - Recalled to Life I.   T...   \n",
       "\n",
       "                                                                    tokens  \n",
       "book_id                                                                     \n",
       "pg10067                  ['A', 'Detective', 'Story', 'A.B.M', '.', 'Fel...  \n",
       "pg1032                   ['This', 'edition', 'first', 'published', '191...  \n",
       "pg10379                  ['``', 'Until', 'this', 'moment', 'I', 'have',...  \n",
       "pg10473                  ['``', 'The', 'Rider', 'of', 'Golden', 'Bar', ...  \n",
       "pg10812                  ['The', 'Worshipper', 'of', 'the', 'Image', 'E...  \n",
       "...                                                                    ...  \n",
       "pg766DickensDavidCopfld  ['I', 'do', 'not', 'find', 'it', 'easy', 'to',...  \n",
       "pg786DickensHardTimes    ['The', 'One', 'Thing', 'Needful', 'Murdering'...  \n",
       "pg834DoyleMemoirsSherlk  ['``', 'I', 'am', 'afraid', ',', 'Watson', ','...  \n",
       "pg863Agatha1             ['The', 'intense', 'interest', 'aroused', 'in'...  \n",
       "pg98DickensTaleCities    ['!', '!', '!', '!', 'Book', 'the', 'First', '...  \n",
       "\n",
       "[994 rows x 5 columns]>"
      ]
     },
     "execution_count": 5,
     "metadata": {},
     "output_type": "execute_result"
    }
   ],
   "source": [
    "corpus.astype"
   ]
  },
  {
   "cell_type": "code",
   "execution_count": 42,
   "metadata": {},
   "outputs": [],
   "source": [
    "for index, book in corpus.iterrows():\n",
    "    rng = round(len(str(corpus.loc[index,\"content\"]).split())*(4/5))\n",
    "    cli = round(len(str(corpus.loc[index,\"content\"]).split())*(1/10)) \n",
    "    a = corpus.loc[index,\"content\"].split()[rng:rng+cli]\n",
    "    str1 = \" \"\n",
    "    corpus.loc[index, \"climax\"] = str1.join(a)\n",
    "    str1 = \" \""
   ]
  },
  {
   "cell_type": "code",
   "execution_count": 50,
   "metadata": {},
   "outputs": [
    {
     "name": "stdout",
     "output_type": "stream",
     "text": [
      "['little', 'account.', 'I', 'have', 'a', 'profound', 'admiration', 'for', 'your', 'police;', 'the', 'results', 'which', 'they', 'accomplish', 'are', 'wonderful,', 'when', 'one', 'considers', 'the', 'difficulties', 'under', 'which', 'they', 'labour.\"', 'He', 'spoke', 'with', 'an', 'accent', 'so', 'sincere', 'that', 'I', 'was', 'almost', 'convinced', 'he', 'meant', 'every', 'word', 'of', 'it;', 'but', 'Godfrey', 'only', 'smiled.', '\"It', 'is', 'a', 'proverb,\"', 'he', 'said,', '\"that', 'the', 'French', 'police', 'are', 'the', 'best', 'in', 'the', 'world.', 'You,', 'no', 'doubt,', 'have', 'a', 'theory', 'in', 'regard', 'to', 'the', 'death', 'of', 'these', 'men?\"', '\"I', 'fear', 'it', 'is', 'impossible,', 'sir,\"', 'said', 'M.', 'Pigot,', 'regretfully,', '\"to', 'answer', 'that', 'question', 'at', 'present,', 'or', 'to', 'discuss', 'this', 'case', 'with', 'you.', 'I', 'have', 'my', 'report', 'first', 'to', 'make', 'to', 'the', 'chief', 'of', 'your', 'detective', 'bureau.', 'To-morrow', 'I', 'shall', 'be', 'most', 'happy', 'to', 'tell', 'you', 'all', 'that', 'I', 'can.', 'But', 'for', 'to-night', 'my', 'lips', 'are', 'closed,', 'sad', 'as', 'it', 'makes', 'me', 'to', 'seem', 'discourteous.\"', 'I', 'could', 'hear', 'behind', 'me', 'the', 'little', 'indrawn', 'breath', 'of', 'disappointment', 'at', 'the', 'failure', 'of', 'the', 'direct', 'attack.', 'M.', \"Pigot's\", 'position', 'was,', 'of', 'course,', 'absolutely', 'correct;', 'but', 'nevertheless', 'Godfrey', 'prepared', 'to', 'attack', 'it', 'on', 'the', 'flank.', '\"You', 'are', 'going', 'ashore', 'to-night?\"', 'he', 'inquired.', '\"I', 'was', 'expecting', 'a', 'representative', 'of', 'your', 'bureau', 'to', 'meet', 'me', 'here,\"', 'M.', 'Pigot', 'explained.', '\"I', 'was', 'hoping', 'to', 'return', 'with', 'him', 'to', 'the', 'city.', 'I', 'have', 'no', 'time', 'to', 'lose.', 'In', 'addition,', 'the', 'more', 'quickly', 'we', 'get', 'to', 'work,', 'the', 'more', 'likely', 'we', 'shall', 'be', 'to', 'succeed.', 'Ah!', 'perhaps', 'that', 'is', 'he,\"', 'he', 'added,', 'as', 'a', 'voice', 'was', 'heard', 'inquiring', 'loudly', 'for', 'Moosseer', 'Piggott.', 'I', 'recognised', 'that', 'voice,', 'and', 'so', 'did', 'Godfrey,', 'and', 'I', 'saw', 'the', 'cloud', 'of', 'disappointment', 'which', 'fell', 'upon', 'his', 'face.', 'An', 'instant', 'later,', 'Grady,', 'with', 'Simmonds', 'in', 'his', 'wake,', 'elbowed', 'his', 'way', 'through', 'the', 'group.', '\"Moosseer', 'Piggott!\"', 'he', 'cried,', 'and', 'enveloped', 'the', \"Frenchman's\", 'slender', 'hand', 'in', 'his', 'great', 'paw,', 'and', 'gave', 'it', 'a', 'squeeze', 'which', 'was', 'no', 'doubt', 'painful.', '\"Glad', 'to', 'see', 'you,', 'sir.', 'Welcome', 'to', 'our', 'city,', 'as', 'we', 'say', 'over', 'here', 'in', 'America.', 'I', 'certainly', 'hope', 'you', 'can', 'speak', 'English,', 'for', 'I', \"don't\", 'know', 'a', 'word', 'of', 'your', 'lingo.', \"I'm\", 'Commissioner', 'Grady,', 'in', 'charge', 'of', 'the', 'detective', 'bureau;', 'and', 'this', 'is', 'Simmonds,', 'one', 'of', 'my', 'men.\"', 'M.', \"Pigot's\", 'perfect', 'suavity', 'was', 'not', 'even', 'ruffled.', '\"I', 'am', 'most', 'pleased', 'to', 'meet', 'you,', 'sir;', 'and', 'you', 'Monsieur', 'Simmòn,\"', 'he', 'said.', '\"Yes', '-', 'I', 'speak', 'English', '-', 'though,', 'as', 'you', 'see,', 'with', 'some', 'difficulty.\"', '\"These', 'reporters', 'bothering', 'your', 'life', 'out,', 'I', 'see,\"', 'and', 'Grady', 'glanced', 'about', 'the', 'group,', 'scowling', 'as', 'his', 'eyes', 'met', \"Godfrey's.\", '\"Now', 'you', 'boys', 'might', 'as', 'well', 'fade', 'away.', 'You', \"won't\", 'get', 'anything', 'out', 'of', 'either', 'of', 'us', 'to-night', '-', 'eh,', 'Moosseer', 'Piggott?\"', '\"I', 'have', 'but', 'just', 'told', 'them', 'that', 'my', 'first', 'report', 'must', 'be', 'made', 'to', 'you,', 'sir,\"', 'assented', 'Pigot.', '\"Then', \"let's\", 'go', 'somewhere', 'and', 'have', 'a', 'drink,\"', 'suggested', 'Grady.', '\"I', 'was', 'hoping,\"', 'said', 'M.', 'Pigot,', 'gently,', '\"that', 'we', 'might', 'go', 'ashore', 'at', 'once.', 'I', 'have', 'my', 'papers', 'ready', 'for', 'you….\"', '\"All', 'right,\"', 'agreed', 'Grady.', '\"And', 'after', \"I've\", 'looked', 'over', 'your', 'papers,', \"I'll\", 'show', 'you', 'Broadway,', 'and', \"I'll\", 'bet', 'you', 'agree', 'with', 'me', 'that', 'it', 'beats', 'anything', 'in', 'gay', 'Paree.', 'Our', \"boat's\", 'waiting,', 'and', 'we', 'can', 'start', 'right', 'away.', 'This', 'your', 'bag?', 'Yes?', 'Bring', 'it', 'along,', 'Simmonds,\"', 'and', 'Grady', 'started', 'for', 'the', 'stair.', 'But', 'the', 'attentive', 'steward', 'got', 'ahead', 'of', 'Simmonds.', 'M.', 'Pigot', 'turned', 'to', 'us', 'with', 'a', 'little', 'smile.', '\"Till', 'to-morrow,', 'gentlemen,\"', 'he', 'said.', '\"I', 'shall', 'be', 'at', 'the', 'Hotel', 'Astor,', 'and', 'shall', 'be', 'glad', 'to', 'see', 'you', '-', 'shall', 'we', 'say', 'at', 'eleven', \"o'clock?\", 'I', 'am', 'truly', 'sorry', 'that', 'I', 'can', 'tell', 'you', 'nothing', 'to-night.\"', 'He', 'shook', 'hands', 'with', 'the', 'purser,', 'waved', 'his', 'hand', 'to', 'us,', 'and', 'joined', 'Grady,', 'who', 'was', 'watching', 'these', 'amenities', 'with', 'evident', 'impatience.', 'Together', 'they', 'disappeared', 'down', 'the', 'stair.', '\"A', 'contrast', 'in', 'manners,', 'was', 'it', 'not,', 'gentlemen?\"', 'asked', 'Godfrey,', 'looking', 'about', 'him.', '\"Didn\\'t', 'you', 'blush', 'for', 'America?\"', 'The', 'men', 'laughed,', 'for', 'they', 'knew', 'he', 'was', 'after', 'Grady,', 'and', 'yet', 'it', 'was', 'evident', 'enough', 'that', 'they', 'agreed', 'with', 'him.', '\"Come', 'on,', 'Lester,\"', 'he', 'added;', '\"we', 'might', 'as', 'well', 'be', 'getting', 'back.', 'I', 'can', 'send', 'the', 'boat', 'down', 'again', 'after', 'the', 'other', 'boys,\"', 'and', 'he', 'turned', 'down', 'the', 'stair.', 'Godfrey', 'bade', 'me', 'good-bye', 'at', 'the', 'dock', 'and', 'hastened', 'away', 'to', 'the', 'office', 'to', 'write', 'his', 'story,', 'which,', 'I', 'could', 'guess,', 'would', 'be', 'concerned', 'with', 'the', 'manners', 'of', 'Americans,', 'especially', 'with', \"Grady's.\", 'As', 'for', 'me,', 'that', 'whiff', 'of', 'salt', 'air', 'had', 'put', 'an', 'unaccustomed', 'edge', 'to', 'my', 'appetite,', 'and', 'I', 'took', 'a', 'cab', 'to', \"Murray's,\", 'deciding', 'to', 'spend', 'the', 'remainder', 'of', 'the', 'evening', 'there,', 'over', 'a', 'good', 'dinner.', 'Except', 'in', 'a', 'certain', 'mood,', \"Murray's\", 'does', 'not', 'appeal', 'to', 'me;', 'the', 'pseudo-Grecian', 'temple', 'in', 'the', 'corner,', 'with', 'water', 'cascading', 'down', 'its', 'steps,', 'the', 'make-believe', 'clouds', 'which', 'float', 'across', 'the', 'ceiling,', 'the', 'tables', 'of', 'glass', 'lighted', 'from', 'beneath', '-', 'all', 'this,', 'ordinarily,', 'seems', 'trivial', 'and', 'banal;', 'but', 'occasionally,', 'in', 'an', 'esoteric', 'mood,', 'I', 'like', \"Murray's,\", 'and', 'can', 'even', 'find', 'something', 'picturesque', 'and', 'romantic', 'in', 'bright', 'gowns,', 'and', 'gleaming', 'shoulders,', 'and', 'handsome', 'faces', 'seen', 'amid', 'these', 'bizarre', 'surroundings.', 'And', 'then,', 'of', 'course,', 'there', 'is', 'always', 'the', 'cooking,', 'which', 'leaves', 'nothing', 'to', 'be', 'desired.', 'I', 'was', 'in', 'the', 'right', 'mood', 'to-night', 'for', 'the', 'enjoyment', 'of', 'the', 'place,', 'and', 'I', 'ambled', 'through', 'the', 'dinner', 'in', 'a', 'fashion', 'so', 'leisurely', 'and', 'trifled', 'so', 'long', 'over', 'coffee', 'and', 'cigarette', 'that', 'it', 'was', 'far', 'past', 'ten', \"o'clock\", 'when', 'I', 'came', 'out', 'again', 'into', 'Forty-second', 'Street.', 'After', 'an', \"instant's\", 'hesitation,', 'I', 'decided', 'to', 'walk', 'home,', 'and', 'turned', 'back', 'toward', 'Broadway,', 'already', 'filling', 'with', 'the', 'after-theatre', 'crowd.', 'Often', 'as', 'I', 'have', 'seen', 'it,', 'Broadway', 'at', 'night', 'is', 'still', 'a', 'fascinating', 'place', 'to', 'me,', 'with', 'its', 'blazing', 'signs,', 'its', 'changing', 'crowds,', 'its', 'clanging', 'street', 'traffic,', 'its', 'bright', 'shop-windows.', 'Grady', 'was', 'right', 'in', 'saying', 'that', '\"gay', 'Paree\"', 'had', 'nothing', 'like', 'it;', 'nor', 'has', 'any', 'other', 'city', 'that', 'I', 'know.', 'It', 'is,', 'indeed,', 'unique', 'and', 'thoroughly', 'American;', 'and', 'I', 'walked', 'along', 'it', 'that', 'night', 'in', 'the', 'most', 'leisurely', 'fashion,', 'savouring', 'it', 'to', 'the', 'full;', 'pausing,', 'now', 'and', 'then,', 'for', 'a', 'glance', 'at', 'a', 'shop-window,', 'and', 'stopping', 'at', 'the', 'Hoffman', 'House', '-', 'now', 'denuded,', 'alas!', 'of', 'its', 'Bouguereau', '-', 'to', 'replenish', 'my', 'supply', 'of', 'cigarettes.', 'Reaching', 'Madison', 'Square,', 'at', 'last,', 'I', 'walked', 'out', 'under', 'the', 'trees,', 'as', 'I', 'almost', 'always', 'do,', 'to', 'have', 'a', 'look', 'at', 'the', 'Flatiron', 'Building,', 'white', 'against', 'the', 'sky.', 'Then', 'I', 'glanced', 'up', 'at', 'the', 'Metropolitan', 'tower,', 'higher', 'but', 'far', 'less', 'romantic', 'in', 'appearance,', 'and', 'saw', 'by', 'the', 'big', 'illuminated', 'clock', 'that', 'it', 'was', 'nearly', 'half-past', 'eleven.', 'I', 'crossed', 'back', 'over', 'Broadway,', 'at', 'last,', 'and', 'turned', 'down', 'Twenty-third', 'Street', 'in', 'the', 'direction', 'of', 'the', 'Marathon,', 'when,', 'just', 'at', 'the', 'corner,', 'I', 'came', 'face', 'to', 'face', 'with', 'three', 'men', 'as', 'they', 'swung', 'around', 'the', 'corner', 'in', 'the', 'same', 'direction,', 'and,', 'with', 'a', 'little', 'start,', 'I', 'recognised', 'Grady', 'and', 'Simmonds,', 'with', 'M.', 'Pigot', 'between', 'them.', 'Evidently', 'Grady', 'had', 'felt', 'it', 'incumbent', 'upon', 'himself', 'to', 'make', 'good', 'his', 'promise', 'in', 'the', 'most', 'liberal', 'manner,', 'and', 'to', 'display', 'the', 'wonders', 'of', 'the', 'Great', 'White', 'Way', 'from', 'end', 'to', 'end', '-', 'the', 'ceremony', 'no', 'doubt', 'involving', 'the', 'introduction', 'of', 'the', 'stranger', 'to', 'a', 'number', 'of', 'typical', 'American', 'drinks', '-', 'and', 'the', 'result', 'of', 'all', 'this', 'was', 'that', \"Grady's\", 'legs', 'wobbled', 'perceptibly.', 'As', 'a', 'matter', 'of', 'racial', 'comparison,', 'I', 'glanced', 'at', 'M.', \"Pigot's,\", 'but', 'they', 'seemed', 'in', 'every', 'way', 'normal.', '\"Hello,', 'Lester,\"', 'said', 'Simmonds,', 'in', 'a', 'voice', 'which', 'showed', 'that', 'he', 'had', 'not', 'wholly', 'escaped', 'the', 'influences', 'of', 'the', \"evening's\", 'celebration;', 'and', 'even', 'Grady', 'condescended', 'to', 'nod,', 'from', 'which', 'I', 'inferred', 'that', 'he', 'was', 'feeling', 'very', 'unusually', 'happy.', '\"Hello,', 'Simmonds,\"', 'I', 'answered,', 'and,', 'as', 'I', 'turned', 'westward', 'with', 'them,', 'he', 'dropped', 'back', 'and;', 'fell', 'into', 'step', 'beside', 'me.', '\"Piggott', 'is', 'certainly', 'a', 'wonder,\"', 'he', 'said.', '\"A', 'regular', 'sport', '-', 'wanted', 'to', 'see', 'everything', 'and', 'taste', 'everything.', 'He', 'says', 'Paris', \"ain't\", 'in', 'the', 'same', 'class', 'with', 'this', 'town.\"', '\"Where', 'are', 'you', 'going', 'now?\"', 'I', 'asked.', '\"We\\'re', 'going', 'round', 'to', 'the', 'station.', 'Piggott', 'says', \"he's\", 'got', 'a', 'sensation', 'up', 'his', 'sleeve', 'for', 'us', '-', \"it's\", 'got', 'something', 'to', 'do', 'with', 'that', 'cabinet.\"', '\"With', 'the', 'cabinet?\"', '\"Yes', '-', 'that', 'shiny', 'thing', 'Godfrey', 'got', 'me', 'to', 'lock', 'up', 'in', 'a', 'cell.\"', '\"Simmonds,\"', 'I', 'said,', 'seriously,', '\"does', 'Godfrey', 'know', 'about', 'this?\"', '\"No,\"', 'said', 'Simmonds,', 'looking', 'a', 'little', 'uncomfortable.', '\"I', 'told', 'Grady', 'we', 'ought', 'to', \"'phone\", 'him', 'to', 'come', 'up,', 'but', 'the', 'chief', 'got', 'mad', 'and', 'told', 'me', 'to', 'mind', 'my', 'own', 'business.', \"Godfrey's\", 'been', 'after', 'him,', 'you', 'know,', 'for', 'a', 'long', 'time.\"', '\"Suppose', 'I', \"'phone\", 'him,\"', 'I', 'suggested.', '\"There\\'d', 'be', 'no', 'objection', 'to', 'that,', 'would', 'there?\"', '\"I', \"won't\", 'object,\"', 'said', 'Simmonds,', '\"and', 'I', \"don't\", 'know', 'who', 'else', 'will,', 'since', 'nobody', 'else', 'will', 'know', 'about', 'it.\"', '\"All', 'right.', 'And', 'drag', 'out', 'the', 'preliminaries', 'as', 'long', 'as', 'you', 'can,', 'to', 'give', 'him', 'a', 'chance', 'to', 'get', 'up', 'here.\"', 'Simmonds', 'nodded.', '\"I\\'ll', 'do', 'what', 'I', 'can,\"', 'he', 'agreed,', '\"but', 'I', \"don't\", 'see', 'what', 'good', 'it', 'will', 'do.', 'The', 'chief', \"won't\", 'let', 'him', 'in,', 'even', 'if', 'he', 'does', 'come', 'up.\"', '\"We\\'ll', 'have', 'to', 'leave', 'that', 'to', 'Godfrey.', 'But', 'he', 'ought', 'to', 'be', 'told.', \"He's\", 'responsible', 'for', 'the', 'cabinet', 'being', 'where', 'it', 'is.\"', '\"I', 'know', 'he', 'is,', 'and', 'Piggott', 'says', 'it', 'was', 'a', 'mighty', 'wise', 'thing', 'to', 'put', 'it', 'there,', 'though', \"I'm\", 'blessed', 'if', 'I', 'know', 'why.', 'Hurry', 'Godfrey', 'along', 'as', 'much', 'as', 'you', 'can.', 'Good-night,\"', 'and', 'he', 'followed', 'his', 'companions', 'into', 'the', 'station.', 'There', 'was', 'a', 'drugstore', 'at', 'the', 'corner', 'with', 'a', 'public', 'telephone', 'station,', 'and', 'two', 'minutes', 'later,', 'I', 'was', 'asking', 'to', 'be', 'connected', 'with', 'the', 'city-room', 'at', 'the', 'Record', 'office.', 'No,', 'said', 'a', 'supercilious', 'voice,', 'Mr.', 'Godfrey', 'was', 'not', 'there;', 'he', 'had', 'left', 'some', 'time', 'before;', 'no,', 'the', 'speaker', 'did', 'not', 'know', 'where', 'he', 'was', 'going,', 'nor', 'when', 'he', 'would', 'be', 'back.', '\"Look', 'here,\"', 'I', 'said,', '\"this', 'is', 'important.', 'I', 'want', 'to', 'talk', 'to', 'the', 'city', 'editor', '-', 'and', 'be', 'quick', 'about', 'it.\"', 'There', 'was', 'an', \"instant's\", 'astonished', 'silence.', '\"What', 'name?\"', 'asked', 'the', 'voice.', '\"Lester,', 'of', 'Royce', 'and', 'Lester', '-', 'and', 'you', 'might', 'tell', 'your', 'city', 'editor', 'that', 'Godfrey', 'is', 'a', 'close', 'friend', 'of', 'mine.\"', 'The', 'city', 'editor', 'seemed', 'to', 'understand,', 'for', 'I', 'was', 'switched', 'on', 'to', 'him', 'a', 'moment', 'later.', 'But', 'he', 'was', 'scarcely', 'more', 'satisfactory.', '\"We', 'sent', 'Godfrey', 'up', 'into', 'Westchester', 'to', 'see', 'a', 'man,\"', 'he', 'said,', '\"on', 'a', 'tip', 'that', 'looked', 'pretty', 'good.', 'He', 'started', 'just', 'as', 'soon', 'as', 'he', 'got', 'his', 'Pigot', 'story', 'written,', 'and', 'he', 'ought', 'to', 'be', 'back', 'almost', 'any', 'time.', 'Is', 'there', 'a', 'message', 'I', 'can', 'give', 'him?\"', '\"Yes', '-', 'tell', 'him', 'Pigot', 'is', 'at', 'the', 'Twenty-third', 'Street', 'station,', 'and', 'that', \"he'd\", 'better', 'come', 'up', 'as', 'soon', 'as', 'he', 'can.\"', '\"Very', 'good.', \"I'll\", 'give', 'him', 'the', 'message', 'the', 'moment', 'he', 'comes', 'in.\"', '\"Thank', 'you,\"', 'I', 'said,', 'but', 'the', 'disappointment', 'was', 'a', 'bitter', 'one.', 'In', 'the', 'street', 'again,', 'I', 'paused', 'hesitatingly', 'at', 'the', 'curb,', 'my', 'eyes', 'on', 'the', 'red', 'light', 'of', 'the', 'police', 'station.', 'What', 'was', 'about', 'to', 'happen', 'there?', 'What', 'was', 'the', 'sensation', 'M.', 'Pigot', 'had', 'up', 'his', 'sleeve?', 'Had', 'I', 'any', 'excuse', 'for', 'being', 'present?', 'And', 'then,', 'remembering', \"Grady's\", 'nod', 'and', 'his', 'wobbly', 'legs', '-', 'remembering,', 'too,', 'that,', 'at', 'the', 'worst,', 'he', 'could', 'only', 'put', 'me', 'out!', '-', 'I', 'turned', 'toward', 'the', 'light,', 'pushed', 'open', 'the', 'door', 'and', 'entered.', 'There', 'was', 'no', 'one', 'in', 'sight', 'except', 'the', 'sergeant', 'at', 'the', 'desk.', '\"My', 'name', 'is', 'Lester,\"', 'I', 'said.', '\"You', 'have', 'a', 'cabinet', 'here', 'belonging', 'to', 'the', 'estate', 'of', 'the', 'late', 'Philip', 'Vantine.\"', '\"We\\'ve', 'got', 'a', 'cabinet,', 'all', 'right;', 'but', 'I', \"don't\", 'know', 'who', 'it', 'belongs', 'to.\"', '\"It', 'belongs', 'to', 'Mr.', \"Vantine's\", 'estate.\"', '\"Well,', 'what', 'about', 'it?\"', 'he', 'asked,', 'looking', 'at', 'me', 'to', 'see', 'if', 'I', 'was', 'drunk.', '\"You', \"haven't\", 'come', 'in', 'here', 'at', 'midnight', 'to', 'tell', 'me', 'that,', 'I', 'hope?\"', '\"No;', 'but', \"I'd\", 'like', 'to', 'see', 'the', 'cabinet', 'a', 'minute.\"', '\"You', \"can't\", 'see', 'it', 'to-night.', 'Come', 'around', 'to-morrow.', 'Besides,', 'I', \"don't\", 'know', 'you.\"', '\"Here\\'s', 'my', 'card.', 'Either', 'Mr.', 'Simmonds', 'or', 'Mr.', 'Grady', 'would', 'know', 'me.', 'And', 'to-morrow', \"won't\", 'do.\"', 'The', 'sergeant', 'took', 'the', 'card,', 'looked', 'at', 'it,', 'and', 'looked', 'at', 'me.', '\"Wait', 'a', 'minute,\"', 'he', 'said,', 'at', 'last,', 'and', 'disappeared', 'through', 'a', 'door', 'at', 'the', 'farther', 'side', 'of', 'the', 'room.', 'He', 'was', 'gone', 'three', 'or', 'four', 'minutes,', 'and', 'the', 'station-clock', 'struck', 'twelve', 'as', 'I', 'stood', 'there.', 'I', 'counted', 'the', 'sonorous,', 'deliberate', 'strokes,', 'and', 'then,', 'in', 'the', 'silence', 'that', 'followed,', 'my', 'hands', 'began', 'to', 'tremble', 'with', 'the', 'suspense.', 'Suppose', 'Grady', 'should', 'refuse', 'to', 'see', 'me?', 'But', 'at', 'last', 'the', 'sergeant', 'came', 'back.', '\"Come', 'along,\"', 'he', 'said,', 'opening', 'the', 'gate', 'in', 'the', 'railing', 'and', 'motioning', 'me', 'through.', '\"Straight', 'on', 'through', 'that', 'door,\"', 'he', 'added,', 'and', 'sat', 'down', 'again', 'at', 'his', 'desk.', 'With', 'a', 'desperate', 'effort', 'at', 'careless', 'unconcern,', 'I', 'opened', 'the', 'door', 'and', 'passed', 'through.', 'Then,', 'involuntarily,', 'I', 'stopped.', 'For', 'there,', 'in', 'the', 'middle', 'of', 'the', 'floor,', 'was', 'the', 'Boule', 'cabinet,', 'with', 'M.', 'Pigot', 'standing', 'beside', 'it,', 'and', 'Grady', 'and', 'Simmonds', 'sitting', 'opposite,', 'flung', 'carelessly', 'back', 'in', 'their', 'chairs,', 'and', 'puffing', 'at', 'black', 'cigars.', 'They', 'all', 'looked', 'at', 'me', 'as', 'I', 'entered,', 'Pigot', 'with', 'an', 'evident', 'contraction', 'of', 'the', 'brows', 'which', 'showed', 'how', 'strongly', 'his', 'urbanity', 'was', 'strained;', 'Simmonds', 'with', 'an', 'affectation', 'of', 'surprise,', 'and', 'Grady', 'with', 'a', 'bland', 'and', 'somewhat', 'vacant', 'smile.', 'My', 'heart', 'rose', 'when', 'I', 'saw', 'that', 'smile.', '\"Well,', 'Mr.', 'Lester,\"', 'he', 'said,', '\"so', 'you', 'want', 'to', 'see', 'this', 'cabinet?\"', '\"Yes,\"', 'I', 'answered;', '\"it', 'really', 'belongs', 'to', 'the', 'Vantine', 'estate,', 'you', 'know;', \"I'm\", 'going', 'to', 'put', 'in', 'a', 'claim', 'for', 'it', '-', 'that', 'is,', 'if', 'you', 'are', 'not', 'willing', 'to', 'surrender', 'it', 'without', 'contest.\"', '\"Did', 'you', 'just', 'happen', 'to', 'think', 'of', 'this', 'in', 'the', 'middle', 'of', 'the', 'night?\"', 'he', 'inquired', 'quizzically.', '\"No,\"', 'I', 'said,', 'boldly;', '\"but', 'I', 'saw', 'you', 'and', 'Mr.', 'Simmonds', 'and', 'this', 'gentleman\"', '-', 'with', 'a', 'bow', 'to', 'M.', 'Pigot', '-', '\"turn', 'in', 'here', 'a', 'moment', 'ago,', 'and', 'it', 'occurred', 'to', 'me', 'that', 'the', 'cabinet', 'might', 'have', 'something', 'to', 'do', 'with', 'your', 'visit.', 'Of', 'course,', 'we', \"don't\", 'want', 'the', 'cabinet', 'injured.', 'It', 'is', 'very', 'valuable.\"', '\"Don\\'t', 'worry,\"', 'said', 'Grady,', 'easily,', '\"we\\'re', 'not', 'going', 'to', 'injure', 'it.', 'And', 'I', 'think', \"we'll\", 'be', 'ready', 'to', 'surrender', 'it', 'to', 'you', 'at', 'any', 'time', 'after', 'to-night.', 'Moosseer', 'Piggott', 'here', 'wants', 'to', 'do', 'a', 'few', 'tricks', 'with', 'it', 'first.', 'I', 'suppose', 'you', 'have', 'a', 'certain', 'right', 'to', 'be', 'present', '-', 'so,', 'if', 'you', 'like', 'sleight-of-hand,', 'sit', 'down.\"', 'I', 'hastily', 'sought', 'a', 'chair,', 'my', 'heart', 'singing', 'within', 'me.', 'Then', 'I', 'attempted', 'to', 'assume', 'a', 'mask', 'of', 'indifference,', 'for', 'M.', 'Pigot', 'was', 'obviously', 'annoyed', 'at', 'my', 'presence,', 'and', 'I', 'feared', 'for', 'a', 'moment', 'that', 'his', 'Gallic', 'suavity', 'would', 'be', 'strained', 'to', 'breaking.', 'But', 'Grady,', 'if', 'he', 'noticed', 'his', \"guest's\", 'annoyance,', 'paid', 'no', 'heed', 'to', 'it;', 'and', 'I', 'began', 'to', 'suspect', 'that', 'the', \"Frenchman's\", 'courtesy', 'and', 'good-breeding', 'had', 'ended', 'by', 'rubbing', 'Grady', 'the', 'wrong', 'way,', 'they', 'were', 'in', 'such', 'painful', 'contrast', 'to', 'his', 'own', 'hob-nailed', 'manners.', 'Whatever', 'the', 'cause,', 'there', 'was', 'a', 'certain', 'malice', 'in', 'the', 'smile', 'he', 'turned', 'upon', 'the', 'Frenchman.', '\"And', 'now,', 'Moosseer', 'Piggott,\"', 'he', 'said,', 'settling', 'back', 'in', 'his', 'chair', 'a', 'little', 'farther,', '\"we\\'re', 'ready', 'for', 'the', 'show.\"', '\"What', 'I', 'have', 'to', 'tell', 'you,', 'sir,\"', 'began', 'M.', 'Pigot,', 'in', 'a', 'voice', 'as', 'hard', 'as', 'steel', 'and', 'cold', 'as', 'ice,', '\"has,', 'understand', 'well,', 'to', 'be', 'told', 'in', 'confidence.', 'It', 'must', 'remain', 'between', 'ourselves', 'until', 'the', 'criminal', 'is', 'secured.\"', \"Grady's\", 'smile', 'hardened', 'a', 'little.', 'Perhaps', 'he', 'did', 'not', 'like', 'the', 'imperatives.', 'At', 'any', 'rate,', 'he', 'ignored', 'the', 'hint.', '\"Understand,', 'Mr.', 'Lester?\"', 'he', 'asked,', 'looking', 'at', 'me,', 'and', 'I', 'nodded.', 'I', 'saw', \"Pigot's\", 'eyes', 'flame', 'and', 'his', 'face', 'flush', 'with', 'anger,', 'for', \"Grady's\", 'tone', 'was', 'almost', 'insulting.', 'For', 'an', 'instant', 'I', 'thought', 'that', 'he', 'would', 'refuse', 'to', 'proceed;', 'but', 'he', 'controlled', 'himself.', 'Standing', 'there', 'facing', 'me,', 'in', 'the', 'full', 'light,', 'it', 'was', 'possible', 'for', 'me', 'to', 'examine', 'him', 'much', 'more', 'closely', 'than', 'had', 'been', 'possible', 'on', 'board', 'the', 'boat,', 'and', 'I', 'looked', 'at', 'him', 'with', 'interest.', 'He', 'was', 'typically', 'French,', '-', 'smooth-shaven,', 'with', 'a', 'face', 'seamed', 'with', 'little', 'wrinkles', 'and', 'very', 'white,', 'eyes', 'shadowed', 'by', 'enormously', 'bushy', 'lashes,', 'and', 'close-cropped', 'hair', 'as', 'white', 'as', 'his', 'face.', 'But', 'what', 'attracted', 'me', 'most', 'was', 'the', 'mouth', '-', 'a', 'mouth', 'at', 'once', 'delicate', 'and', 'humourous,', 'a', 'little', 'large', 'and', 'with', 'the', 'lips', 'full', 'enough', 'to', 'betoken', 'vigour,', 'yet', 'not', 'too', 'full', 'for', 'fineness.', 'He', 'was', 'about', 'sixty', 'years', 'of', 'age,', 'I', 'guessed;', 'and', 'there', 'was', 'about', 'him', 'the', 'air', 'of', 'a', 'man', 'who', 'had', 'passed', 'through', 'a', 'hundred', 'remarkable', 'experiences,', 'without', 'once', 'losing', 'his', 'aplomb.', 'Certainly', 'he', 'was', 'not', 'going', 'to', 'lose', 'it', 'now.', '\"The', 'story', 'which', 'I', 'have', 'to', 'relate,\"', 'he', 'began', 'in', 'his', 'careful', 'English,', 'clipping', 'his', 'words', 'a', 'little', 'now', 'and', 'then,', '\"has', 'to', 'do', 'with', 'the', 'theft', 'of', 'the', 'famous', 'Michaelovitch', 'diamonds.', 'You', 'may,', 'perhaps,', 'remember', 'the', 'case.\"', 'I', 'remembered', 'it,', 'certainly,', 'for', 'the', 'robbery', 'had', 'been', 'conceived', 'and', 'carried', 'out', 'with', 'such', 'brilliancy', 'and', 'daring', 'that', 'its', 'details', 'had', 'at', 'once', 'arrested', 'my', 'attention', '-', 'to', 'say', 'nothing', 'of', 'the', 'fact', 'that', 'the', 'diamonds,', 'which', 'formed', 'the', 'celebrated', 'collection', 'belonging', 'to', 'the', 'Grand', 'Duke', 'Michael,', 'of', 'Russia,', '-', 'sojourning', 'in', 'Paris', 'because', 'unappreciated', 'in', 'his', 'native', 'land', 'and', 'also', 'because', 'of', 'the', 'supreme', 'attraction', 'of', 'the', 'French', 'capital', 'to', 'one', 'of', 'his', 'temperament', '-', 'were', 'valued', 'at', 'something', 'like', 'eight', 'million', 'francs.', '\"That', 'theft,\"', 'continued', 'M.', 'Pigot,', '\"was', 'accomplished', 'in', 'a', 'manner', 'at', 'once', 'so', 'bold', 'and', 'so', 'unique', 'that', 'we', 'were', 'certain', 'it', 'could', 'be', 'the', 'work', 'of', 'but', 'a', 'single', 'man', '-', 'a', 'rascal', 'named', 'Crochard,', 'who', 'calls', 'himself', 'also', \"'The\", \"Invincible'\", '-', 'a', 'rascal', 'who', 'has', 'given', 'us', 'very', 'great', 'trouble,', 'but', 'whom', 'we', 'have', 'never', 'been', 'able', 'to', 'convict.', 'In', 'this', 'case,', 'we', 'had', 'against', 'him', 'no', 'direct', 'evidence;', 'we', 'subjected', 'him', 'to', 'an', 'interrogation', 'and', 'found', 'that', 'he', 'had', 'taken', 'care', 'to', 'provide', 'a', 'perfect', 'alibi;', 'so', 'we', 'were', 'compelled', 'to', 'release', 'him.', 'We', 'knew', 'that', 'it', 'would', 'be', 'quite', 'useless', 'to', 'arrest', 'him', 'unless', 'we', 'should', 'find', 'some', 'of', 'the', 'stolen', 'jewels', 'in', 'his', 'possession.', 'He', 'appeared', 'as', 'usual', 'upon', 'the', 'boulevards,', 'at', 'the', 'cafés,', 'everywhere.', 'He', 'laughed', 'in', 'our', 'faces.', 'For', 'us,', 'it', 'was', 'not', 'pleasant;', 'but', 'our', 'law', 'is', 'strict.', 'For', 'us', 'to', 'accuse', 'a', 'man,', 'to', 'arrest', 'him,', 'and', 'then', 'to', 'be', 'compelled', 'to', 'own', 'ourselves', 'mistaken,', 'is', 'a', 'very', 'serious', 'matter.', 'But', 'we', 'did', 'what', 'we', 'could.', 'We', 'kept', 'Crochard', 'under', 'constant', 'surveillance;', 'we', 'searched', 'his', 'rooms', 'and', 'those', 'of', 'his', 'mistress', 'not', 'once', 'but', 'many', 'times.', 'On', 'one', 'occasion,', 'when', 'he', 'passed', 'the', 'barrier', 'at', 'Vincennes,', 'our', 'agents', 'fell', 'upon', 'him', 'and', 'searched', 'him,', 'under', 'pretence', 'of', 'robbing', 'him.', '\"He', 'was,', 'understand', 'well,', 'not', 'for', 'an', 'instant', 'deceived.', 'He', 'knew', 'thoroughly', 'what', 'we', 'were', 'doing,', 'for', 'what', 'we', 'were', 'searching.', 'He', 'knew', 'also', 'that', 'nowhere', 'in', 'Europe', 'would', 'he', 'dare', 'to', 'attempt', 'to', 'sell', 'a', 'single', 'one', 'of', 'those', 'jewels.', 'We', 'suspected', 'that', 'he', 'would', 'attempt', 'to', 'bring', 'them', 'to', 'this', 'country,', 'and', 'we', 'warned', 'your', 'department', 'of', 'customs.', 'For', 'we', 'knew', 'that', 'here', 'he', 'could', 'sell', 'all', 'but', 'the', 'very', 'largest', 'not', 'only', 'almost', 'without', 'danger,', 'but', 'at', 'a', 'price', 'far', 'greater', 'than', 'he', 'could', 'obtain', 'for', 'them', 'in', 'Europe.', 'We', 'closed', 'every', 'avenue', 'to', 'him,', 'as', 'we', 'thought', '-', 'and', 'then,', 'all', 'at', 'once,', 'he', 'disappeared.', '\"For', 'two', 'weeks', 'we', 'heard', 'nothing', '-', 'then', 'came', 'the', 'story', 'of', 'this', 'man', 'Drouet,', 'killed', 'by', 'a', 'stab', 'on', 'the', 'hand.', 'At', 'once', 'we', 'recognised', 'the', 'work', 'of', 'Crochard,', 'for', 'he', 'alone', 'of', 'living', 'men', 'possesses', 'the', 'secret', 'of', 'the', 'poison', 'of', 'the', 'Medici.', 'It', 'is', 'a', 'fearful', 'secret,', 'which,', 'in', 'his', 'whole', 'life,', 'he', 'had', 'used', 'but', 'once', '-', 'and', 'that', 'upon', 'a', 'man', 'who', 'had', 'betrayed', 'him.\"', 'M.', 'Pigot', 'paused', 'and', 'passed', 'his', 'hand', 'across', 'his', 'forehead.', '\"We', 'were', 'at', 'a', 'loss', 'to', 'understand', \"Crochard's\", 'connection', 'with', 'Drouet,\"', 'M.', 'Pigot', 'continued.', '\"Drouet,', 'while', 'a', 'mere', 'hanger-on', 'of', 'the', 'cafés', 'of', 'the', 'boulevards,', 'was', 'not', 'a', 'criminal.', 'Then', 'came', 'the', 'death', 'of', 'that', 'creature', 'Morel,', 'in', 'an', 'effort', 'to', 'gain', 'possession', 'of', 'this', 'cabinet,', 'and', 'we', 'began', 'to', 'understand.', 'We', 'made', 'inquiries', 'concerning', 'the', 'cabinet;', 'we', 'learned', 'its', 'history,', 'and', 'the', 'secret', 'of', 'its', 'construction,', 'and', 'we', 'arrived', 'at', 'a', 'certain', 'conclusion.', 'It', 'was', 'to', 'ascertain', 'if', 'that', 'conclusion', 'is', 'correct', 'that', 'I', 'came', 'to', 'America.\"', '\"What', 'is', 'the', 'conclusion?\"', 'queried', 'Grady,', 'who', 'had', 'listened', 'to', 'all', 'this', 'with', 'a', 'manifest', 'impatience', 'in', 'strong', 'contrast', 'to', 'my', 'own', 'absorbed', 'interest.', 'For', 'I', 'had', 'already', 'guessed', 'what', 'the', 'conclusion', 'was,', 'and', 'my', 'pulses', 'were', 'bounding', 'with', 'excitement.', '\"Our', 'theory,\"', 'replied', 'M.', 'Pigot,', 'without', 'the', 'slightest', 'acceleration', 'of', 'speech,', '\"is', 'that', 'the', 'Michaelovitch', 'diamonds', 'are', 'concealed', 'in', 'this', 'cabinet.', 'Everything', 'points', 'to', 'it', '-', 'and', 'we', 'shall', 'soon', 'see.\"', 'As', 'he', 'spoke,', 'he', 'drew', 'from', 'his', 'pocket', 'a', 'steel', 'gauntlet,', 'marvellously', 'like', 'the', 'one', 'Godfrey', 'had', 'used,', 'and', 'slipped', 'it', 'over', 'his', 'right', 'hand.', '\"When', 'one', 'attempts', 'to', 'fathom', 'the', 'secrets', 'of', 'L\\'Invincible\"', 'he', 'said', 'with', 'a', 'smile,', '\"one', 'must', 'go', 'armoured.', 'Already', 'three', 'men', 'have', 'paid', 'with', 'their', 'lives', 'the', 'penalty', 'of', 'their', 'rashness.\"', '\"Three', 'men!\"', 'repeated', 'Grady,', 'wonderingly.', '\"Three,\"', 'and', 'Pigot', 'checked', 'them', 'off', 'upon', 'his', 'fingers.', '\"First', 'the', 'man', 'who', 'gave', 'his', 'name', 'as', \"d'Aurelle,\", 'but', 'who', 'was', 'really', 'a', 'blackmailer', 'named', 'Drouet;', 'second,', 'M.', 'Vantine,', 'the', 'connoisseur;', 'and', 'third,', 'the', 'creature', 'Morel.', 'Of', 'these,', 'the', 'only', 'one', 'that', 'really', 'matters', 'is', 'M.', 'Vantine;', 'his', 'death', 'was', 'most', 'unfortunate,', 'and', 'I', 'am', 'sure', 'that', 'Crochard', 'regrets', 'it', 'exceedingly.', 'He', 'might', 'also', 'regret', 'my', 'death,', 'but,', 'at', 'any', 'rate,', 'I', 'have', 'no', 'wish', 'to', 'be', 'the', 'fourth.', 'Not', 'I,\"', 'and', 'he', 'adjusted', 'the', 'gauntlet', 'carefully.', '\"One', 'moment,', 'monsieur,\"', 'I', 'said,', 'bursting', 'in,', 'unable', 'to', 'remain', 'longer', 'silent.', '\"This', 'is', 'all', 'so', 'wonderful', '-', 'so', 'thrilling', '-', 'will', 'you', 'not', 'tell', 'us', 'more?', 'For', 'what', 'were', 'these', 'three', 'men', 'searching?', 'For', 'the', 'jewels?\"', '\"Monsieur', 'is', 'as', 'familiar', 'with', 'the', 'facts', 'as', 'I,\"', 'he', 'answered,', 'in', 'a', 'sarcastic', 'tone.', '\"He', 'knows', 'that', 'Drouet', 'was', 'killed', 'while', 'searching', 'for', 'a', 'packet', 'of', 'letters,', 'which', 'would', 'have', 'compromised', 'most', 'seriously', 'a', 'great', 'lady;', 'he', 'knows', 'that', 'M.', 'Vantine', 'was', 'killed', 'while', 'endeavouring', 'to', 'open', 'the', 'drawer', 'after', 'its', 'secret', 'had', 'been', 'revealed', 'to', 'him', 'by', 'the', 'maid', 'of', 'that', 'same', 'great', 'lady,', 'who', 'was', 'hoping', 'to', 'get', 'a', 'reward', 'for', 'them;', 'Morel', 'met', 'death', 'directly', 'at', 'the', 'hands', 'of', 'Crochard', 'because', 'he', 'was', 'a', 'traitor', 'and', 'deserved', 'it.\"', 'More', 'and', 'more', 'fascinated,', 'I', 'stared', 'at', 'him.', 'What', 'secret', 'was', 'safe,', 'I', 'asked', 'myself,', 'from', 'this', 'astonishing', 'man?', 'Or', 'was', 'he', 'merely', 'piecing', 'together', 'the', 'whole', 'story', 'from', 'such', 'fragments', 'as', 'he', 'knew?', '\"But', 'even', 'yet,\"', 'I', 'stammered,', '\"I', 'do', 'not', 'understand.', 'We', 'have', 'opened', 'the', 'secret', 'drawer', 'of', 'the', 'cabinet', '-', 'there', 'was', 'no', 'poison.', 'How', 'could', 'it', 'have', 'killed', 'Drouet', 'and', 'Mr.', 'Vantine?\"', '\"Very', 'simply,\"', 'said', 'M.', 'Pigot,', 'coldly.', '\"Death', 'came', 'to', 'Drouet', 'and', 'M.', 'Vantine', 'because', 'the', 'maid', 'of', 'Madame', 'la', 'Duchesse', 'mistook', 'her', 'left', 'hand', 'for', 'her', 'right.', 'The', 'drawer', 'which', 'contained', 'the', 'letters', 'is', 'at', 'the', 'left', 'of', 'the', 'cabinet', '-', 'see,\"', 'and', 'he', 'pressed', 'the', 'series', 'of', 'springs,', 'caught', 'the', 'little', 'handle,', 'and', 'pulled', 'the', 'drawer', 'open.', '\"You', 'will', 'notice', 'that', 'the', 'letters', 'are', 'gone,', 'for', 'the', 'drawer', 'was', 'opened', 'by', 'Madame', 'la', 'Duchesse', 'herself,', 'in', 'the', 'presence', 'of', 'M.', 'Lestaire,', 'who', 'very', 'gallantly', 'permitted', 'her', 'to', 'resume', 'possession', 'of', 'them.', 'The', 'drawer', 'which', 'Drouet', 'and', 'M.', 'Vantine', 'opened,\"', 'and', 'here', 'his', 'voice', 'became', 'a', 'little', 'strident', 'under', 'the', 'stress', 'of', 'great', 'emotion,', '\"is', 'on', 'the', 'right', 'side', 'of', 'the', 'cabinet,', 'exactly', 'opposite', 'the', 'other,', 'and', 'opened', 'by', 'a', 'similar', 'combination.', 'But', 'there', 'is', 'one', 'great', 'difference.', 'About', 'the', 'first', 'drawer,', 'there', 'is', 'nothing', 'to', 'harm', 'any', 'one;', 'the', 'other', 'is', 'guarded', 'by', 'the', 'deadliest', 'poison', 'the', 'world', 'has', 'ever', 'known.', 'Observe', 'me,', 'gentlemen!\"', 'Impelled', 'by', 'an', 'excitement', 'so', 'intense', 'as', 'to', 'be', 'almost', 'painful,', 'I', 'had', 'risen', 'from', 'my', 'chair', 'and', 'drawn', 'near', 'to', 'him.', 'As', 'he', 'spoke,', 'he', 'bent', 'above', 'the', 'desk', 'and', 'pressed', 'three', 'fingers', 'along', 'the', 'right', 'edge.', 'There', 'was', 'a', 'sharp', 'click,', 'and', 'a', 'section', 'of', 'the', 'inlay', 'fell', 'outward,', 'forming', 'a', 'handle,', 'just', 'as', 'I', 'had', 'seen', 'it', 'do', 'on', 'the', 'other', 'side', 'of', 'the', 'desk.', 'M.', 'Pigot', 'hesitated', 'an', 'instant', '-', 'any', 'man', 'would', 'have', 'hesitated', 'before', 'that', 'awful', 'risk!', '-', 'then,', 'catching', 'the', 'handle', 'firmly', 'with', 'his', 'armoured', 'hand,', 'he', 'drew', 'it', 'quickly', 'out.', 'There', 'was', 'a', 'sharp', 'clash,', 'as', 'of', 'steel', 'on', 'steel,', 'and', 'the', 'drawer', 'stood', 'open.', 'M.', 'Pigot,', 'cool', 'and', 'imperturbable,', 'held', 'out', 'to', 'us,', 'with', 'a', 'little', 'smile,', 'a', 'hand', 'which', 'showed', 'not', 'a', 'quiver', 'of', 'emotion', '-', 'his', 'gauntleted', 'hand;', 'and', 'I', 'saw', 'that,', 'on', 'the', 'back', 'of', 'it,', 'were', 'two', 'tiny', 'depressions.', 'At', 'the', 'bottom', 'of', 'each', 'depression', 'lay', 'a', 'drop', 'of', 'bright', 'red', 'liquid', '-', 'blood-red,', 'I', 'told', 'myself,', 'as', 'I', 'stared', 'at', 'it,', 'fascinated.', 'And', 'what', 'nerves', 'of', 'steel', 'this', 'man', 'possessed!', 'A', 'sudden', 'warmth', 'of', 'admiration', 'for', 'him', 'glowed', 'within', 'me.', '\"That', 'liquid,', 'gentlemen,\"', 'he', 'said', 'in', 'his', 'smooth', 'voice,', '\"is', 'the', 'most', 'powerful', 'poison', 'ever', 'distilled', 'by', 'man.', 'Those', 'two', 'tiny', 'drops', 'would', 'kill', 'a', 'score', 'of', 'people,', 'and', 'kill', 'them', 'instantly.', 'Its', 'odour', 'betrays', 'its', 'origin\"', '-', 'and,', 'indeed,', 'the', 'air', 'was', 'heavy', 'with', 'the', 'scent', 'of', 'bitter', 'almonds', '-', '\"but', 'the', 'poison', 'ordinarily', 'derived', 'from', 'that', 'source', 'is', 'as', 'nothing', 'compared', 'with', 'this.', 'This', 'poison', 'is', 'said', 'to', 'have', 'been', 'discovered', 'by', 'Rémy,', 'the', 'remarkable', 'man', 'who', 'brought', 'about', 'the', 'death', 'of', 'the', 'Duc', \"d'Anjou.\", 'Its', 'distillation', 'was', 'supposed', 'to', 'be', 'one', 'of', 'the', 'lost', 'arts,', 'but', 'the', 'secret', 'was', 'rediscovered', 'by', 'this', 'man', 'Crochard.', 'No', 'secret,', 'indeed,', 'is', 'safe', 'from', 'him;', 'criminal', 'history,', 'criminal', 'memoirs', '-', 'the', 'mysteries', 'and', 'achievements', 'of', 'the', 'great', 'confederacy', 'of', 'crime', 'which', 'has', 'existed', 'for', 'many', 'centuries,', 'and', 'whose', 'existence', 'few', 'persons', 'even', 'suspect', '-', 'all', 'this', 'is', 'to', 'him', 'an', 'open', 'book.', 'It', 'is', 'this', 'which', 'renders', 'him', 'so', 'formidable.', 'No', 'man', 'can', 'stand', 'against', 'him.', 'Even', 'the', 'secret', 'of', 'this', 'drawer', 'was', 'known', 'to', 'him,', 'and', 'he', 'availed', 'himself', 'of', 'it', 'when', 'need', 'arose.\"', 'M.', 'Pigot', 'paused,', 'his', 'head', 'bent', 'in', 'thought;', 'and', 'I', 'seemed', 'to', 'be', 'gazing', 'with', 'him', 'down', 'long', 'avenues', 'of', 'crime,', 'extending', 'far', 'into', 'the', 'past', '-', 'dismal', 'avenues', 'like', 'those', 'of', 'Père', 'Lachaise,', 'where', 'tombs', 'elbowed', 'each', 'other;', 'where,', 'at', 'every', 'step,', 'one', 'came', 'face', 'to', 'face', 'with', 'a', 'mystery,', 'a', 'secret,', 'or', 'a', 'tragedy.', 'Only,', 'here,', 'the', 'mysteries', 'were', 'all', 'solved,', 'the', 'secrets', 'all', 'uncovered,', 'the', 'tragedies', 'all', 'understood.', 'But', 'only', 'to', 'the', 'elect,', 'to', 'criminals', 'really', 'great,', 'were', 'these', 'avenues', 'open;', 'to', 'all', 'others', 'they', 'were', 'forbidden.', 'Alone', 'of', 'living', 'men,', 'perhaps,', 'Crochard', 'was', 'free', 'to', 'wander', 'there', 'unchallenged.', 'Some', 'such', 'vision', 'as', 'this,', 'I', 'say,', 'passed', 'before', 'my', 'eyes,', 'and', 'I', 'had', 'a', 'feeling', 'that', 'M.', 'Pigot', 'shared', 'in', 'it;', 'but,', 'after', 'an', 'instant,', 'he', 'turned', 'back', 'to', 'the', 'cabinet.', '\"Now,', 'M.', 'Simmón,\"', 'he', 'said,', 'briskly,', 'in', 'an', 'altered', 'voice,', '\"if', 'you', 'will', 'have', 'the', 'kindness', 'to', 'hold', 'the', 'drawer', 'for', 'a', 'moment', 'in', 'this', 'position,', 'I', 'will', 'draw', 'the', \"serpent's\", 'fangs.', 'There', 'is', 'not', 'the', 'slightest', 'danger,\"', 'he', 'added,', 'seeing', 'that', 'Simmonds', 'very', 'naturally', 'hesitated.', 'Thus', 'assured,', 'Simmonds', 'grasped', 'the', 'handle', 'of', 'the', 'drawer,', 'and', 'held', 'it', 'open,', 'while', 'the', 'Frenchman', 'took', 'from', 'his', 'pocket', 'a', 'tiny', 'flask', 'of', 'crystal.', '\"A', 'little', 'farther,\"', 'he', 'said;', 'and', 'as', 'Simmonds,', 'with', 'evident', 'effort,', 'drew', 'the', 'drawer', 'out', 'to', 'its', 'full', 'length,', 'a', 'tiny,', 'two-tined', 'prong', 'pushed', 'itself', 'forward', 'from', 'underneath', 'the', 'cabinet.', '\"There', 'are', 'the', 'fangs,\"', 'said', 'M.', 'Pigot.', 'He', 'held', 'the', 'mouth', 'of', 'the', 'flask', 'under', 'first', 'one', 'and', 'then', 'the', 'other,', 'passing', 'his', 'other', 'hand', 'carefully', 'behind', 'and', 'above', 'them.', '\"The', 'poison', 'is', 'held', 'in', 'place', 'by', 'what', 'we', 'in', 'French', 'call', 'attraction', 'capillaire', '-', 'I', 'do', 'not', 'know', 'the', 'English;', 'but', 'I', 'drive', 'it', 'out', 'by', 'introducing', 'the', 'air', 'behind', 'it', '-', 'ah,', 'you', 'see!\"', 'He', 'stood', 'erect', 'and', 'held', 'the', 'flask', 'up', 'to', 'the', 'light.', 'It', 'was', 'half', 'full', 'of', 'the', 'red', 'liquid.', '\"Enough', 'to', 'decimate', 'France,\"', 'he', 'said,', 'screwed', 'the', 'stopper', 'carefully', 'into', 'place,', 'and', 'put', 'the', 'flask', 'in', 'his', 'pocket.', '\"Release', 'the', 'drawer,', 'if', 'you', 'please,', 'monsieur,\"', 'he', 'added', 'to', 'Simmonds.', 'It', 'sprang', 'back', 'into', 'place', 'on', 'the', 'instant,', 'the', 'arabesqued', 'handle', 'snapping', 'up', 'with', 'a', 'little', 'click.', '\"You', 'will', 'observe', 'its', 'ingenuity,\"', 'said', 'M.', 'Pigot.', '\"It', 'is', 'really', 'most', 'clever.', 'For', 'whenever', 'the', 'hand,', 'struck', 'by', 'the', 'poisoned', 'fangs,', 'loosened', 'its', 'hold', 'on', 'the', 'drawer,', 'the', 'drawer', 'sprang', 'shut', 'as', 'you', 'see,', 'and', 'everything', 'was', 'as', 'before', '-', 'except', 'that', 'one', 'man', 'more', 'had', 'tasted', 'death.', 'Now', 'I', 'open', 'it.', 'The', 'fangs', 'fall', 'again;', 'they', 'strike', 'the', 'gauntlet;', 'but', 'for', 'that,', 'they', 'would', 'pierce', 'the', 'hand,', 'but', 'death', 'no', 'longer', 'follows.', 'By', 'turning', 'this', 'button,', 'I', 'lock', 'the', 'spring,', 'and', 'the', 'drawer', 'remains', 'open.', 'The', 'man', 'who', 'devised', 'this', 'mechanism', 'was', 'so', 'proud', 'of', 'it', 'that', 'he', 'described', 'it', 'in', 'a', 'secret', 'memoir', 'for', 'the', 'entertainment', 'of', 'the', 'Grand', 'Louis.', 'There', 'is', 'a', 'copy', 'of', 'that', 'memoir', 'among', 'the', 'archives', 'of', 'the', 'Bibliothèque', 'Nationale;', 'the', 'original', 'is', 'owned', 'by', 'Crochard.', 'It', 'was', 'he', 'who', 'connected', 'that', 'memoir', 'with', 'this', 'cabinet,', 'who', 'rediscovered', 'the', 'mechanism,', 'rewound', 'the', 'spring,', 'and', 'renewed', 'the', 'poison.', 'No', 'doubt', 'the', 'stroke', 'with', 'the', 'poisoned', 'fangs,', 'which', 'he', 'used', 'to', 'punish', 'traitors,', 'was', 'the', 'result', 'of', 'reading', 'that', 'memoir.\"', '\"This', 'Croshar', '-', 'or', 'whatever', 'his', 'name', 'is,', '-', 'seems', 'to', 'be', 'a', \"'strordinary\", 'feller,\"', 'observed', 'Grady,', 'relighting', 'his', 'cigar.', '\"He', 'is,\"', 'agreed', 'M.', 'Pigot,', 'quietly;', '\"a', 'most', 'extraordinary', 'man.', 'But', 'even', 'he', 'is', 'not', 'infallible;', 'for,', 'since', 'the', 'memoir', 'made', 'no', 'mention', 'of', 'the', 'other', 'secret', 'drawer', '-', 'the', 'one', 'in', 'which', 'Madame', 'la', 'Duchesse', 'concealed', 'her', 'love', 'letters', '-', 'Crochard', 'knew', 'nothing', 'of', 'it.', 'It', 'was', 'that', 'fact', 'which', 'defeated', 'his', 'combinations', '-', 'a', 'pure', 'accident', 'which', 'he', 'could', 'not', 'foresee.', 'And', 'now,', 'gentlemen,', 'it', 'shall', 'be', 'my', 'pleasure', 'to', 'display', 'before', 'you', 'some', 'very', 'beautiful', 'brilliants.\"', 'Not', 'until', 'that', 'instant', 'had', 'I', 'thought', 'of', 'what', 'the', 'drawer', 'contained;', 'I', 'had', 'been', 'too', 'fascinated', 'by', 'the', 'poisoned', 'fangs', 'and', 'by', 'the', 'story', 'told', 'so', 'quietly', 'but', 'so', 'effectively', 'by', 'the', 'French', 'detective;', 'but', 'now', 'I', 'perceived', 'that', 'the', 'drawer', 'was', 'filled', 'with', 'little', 'rolls', 'of', 'cotton,', 'which', 'had', 'been', 'pressed', 'into', 'it', 'quite', 'tightly.', 'M.', 'Pigot', 'removed', 'the', 'first', 'of', 'these,', 'unrolled', 'it', 'and', 'spread', 'it', 'out', 'upon', 'the', 'desk,', 'and', 'instantly', 'we', 'caught', 'the', 'glitter', 'of', 'diamonds', '-', 'diamonds', 'so', 'large,', 'so', 'brilliant,', 'so', 'faultlessly', 'white', 'that', 'I', 'drew', 'a', 'deep', 'breath', 'of', 'admiration.', 'Even', 'M.', 'Pigot,', 'evidently', 'as', 'he', 'prided', 'himself', 'upon', 'his', 'imperturbability,', 'could', 'not', 'look', 'upon', 'those', 'gems', 'wholly', 'unmoved;', 'a', 'slow', 'colour', 'crept', 'into', 'his', 'cheeks', 'as', 'he', 'gazed', 'down', 'at', 'them,', 'and', 'he', 'picked', 'up', 'one', 'or', 'two', 'of', 'the', 'larger', 'ones', 'to', 'admire', 'them', 'more', 'closely.', 'Then', 'he', 'unfolded', 'roll', 'after', 'roll,', 'stopping', 'from', 'time', 'to', 'time', 'for', 'a', 'look', 'at', 'the', 'larger', 'brilliants.', '\"These', 'are', 'from', 'the', 'famous', 'necklace', 'which', 'the', 'Grand', 'Duke', 'inherited', 'from', 'his', 'grandmother,\"', 'he', 'said,', 'calling', 'our', 'attention', 'to', 'a', 'little', 'pile', 'of', 'marvellous', 'gems', 'in', 'one', 'of', 'the', 'last', 'packets.', '\"Crochard,', 'of', 'course,', 'removed', 'them', 'from', 'their', 'settings', '-', 'that', 'was', 'inevitable.', 'He', 'could', 'melt', 'down', 'the', 'settings', 'and', 'sell', 'the', 'gold;', 'but', 'not', 'one', 'of', 'these', 'brilliants', 'would', 'be', 'marketable', 'in', 'Europe', 'for', 'many', 'years.', 'Each', 'of', 'them', 'is', 'a', 'marked', 'gem.', 'Here', 'in', 'America,', 'your', 'police', 'regulations', 'are', 'not', 'so', 'complete;', 'but', 'I', 'fancy', 'that,', 'even', 'here,', 'he', 'would', 'have', 'had', 'difficulty', 'in', 'marketing', 'this', 'one,\"', 'and', 'he', 'unfolded', 'the', 'last', 'packet,', 'and', 'held', 'up', 'to', 'the', 'light', 'a', 'rose-diamond', 'which', 'seemed', 'to', 'me', 'as', 'large', 'as', 'a', 'walnut,', 'and', 'a-glow', 'with', 'lovely', 'colour.', '\"Perhaps', 'you', 'have', 'stopped', 'to', 'admire', 'the', 'Mazarin', 'diamond', 'in', 'the', 'galérie', \"d'Apollon\", 'at', 'the', 'Louvre,\"', 'said', 'M.', 'Pigot.', '\"There', 'is', 'always', 'a', 'crowd', 'about', 'that', 'case,', 'and', 'a', 'special', 'attendant', 'is', 'installed', 'there', 'to', 'guard', 'it,', 'for', 'it', 'contains', 'some', 'articles', 'of', 'great', 'value.', 'But', 'the', 'Mazarin', 'is', 'not', 'one', 'of', 'them;', 'for', 'it', 'is', 'not', 'a', 'diamond', 'at', 'all;', 'it', 'is', 'paste', '-', 'a', 'paste', 'facsimile', 'of', 'which', 'this', 'is', 'the', 'original.', 'Oh,', 'it', 'is', 'all', 'quite', 'honest,\"', 'he', 'added,', 'as', 'Grady', 'snorted', 'derisively.', '\"Some', 'years', 'ago,', 'the', 'directors', 'of', 'the', 'Louvre', 'needed', 'a', 'fund', 'for', 'the', 'purchase', 'of', 'new', 'paintings;', 'needed', 'also', 'to', 'clean', 'and', 'restore', 'the', 'old', 'ones.', 'They', 'decided', 'that', 'it', 'was', 'folly', 'to', 'keep', 'three', 'millions', 'of', 'francs', 'imprisoned', 'in', 'a', 'single', 'gem,', 'when', 'their', 'Michael', 'Angelos', 'and', 'da', 'Vincis', 'and', 'Murillos', 'were', 'encrusted', 'with', 'dirt', 'and', 'fading', 'daily.', 'So', 'they', 'sought', 'a', 'purchaser', 'for', 'the', 'Mazarin;', 'they', 'found', 'one', 'in', 'the', 'empress', 'of', 'Russia,', 'who', 'had', 'a', 'craze', 'for', 'precious', 'stones,', 'and', 'who,', 'at', 'her', 'death,', 'left', 'this', 'remarkable', 'collection', 'to', 'her', 'favourite', 'son,', 'who', 'had', 'inherited', 'her', 'passion.', 'A', 'paste', 'replica', 'of', 'the', 'Mazarin', 'was', 'placed', 'in', 'the', 'Louvre', 'for', 'the', 'crowds', 'to', 'admire,', 'and', 'every', 'one', 'soon', 'forgot', 'that', 'it', 'was', 'not', 'really', 'the', 'diamond.', 'For', 'myself,', 'I', 'think', 'the', 'directors', 'acted', 'most', 'wisely.', 'And', 'now,\"', 'he', 'added,', 'with', 'a', 'gesture', 'toward', 'the', 'glittering', 'heaps,', '\"what', 'shall', 'we', 'do', 'with', 'all', 'this?\"', '\"There\\'s', 'only', 'one', 'thing', 'to', 'do,\"', 'said', 'Grady,', 'awaking', 'suddenly', 'as', 'from', 'a', 'trance,', '\"and', \"that's\", 'to', 'get', 'them', 'in', 'a', 'safe-deposit', 'box', 'as', 'quick', 'as', 'possible.', \"There's\", 'no', 'police-safe', \"I'd\", 'trust', 'with', \"'em!\", 'Why,', \"they'd\", 'tempt', 'the', 'angel', 'Gabriel!\"', 'and', 'he', 'drew', 'a', 'deep', 'breath.', '\"Can', 'we', 'find', 'a', 'box', 'of', 'safe-deposit', 'at', 'this', 'hour', 'of', 'the', 'night?\"', 'asked', 'M.', 'Pigot,', 'glancing', 'at', 'his', 'watch.', '\"It', 'is', 'almost', 'one', \"o'clock\", 'and', 'a', 'half.\"', '\"That\\'s', 'easy', 'in', 'New', 'York,\"', 'said', 'Grady.', '\"We\\'ll', 'take', \"'em\", 'over', 'to', 'the', 'Day', 'and', 'Night', 'Bank', 'on', 'Fifth', 'Avenue.', 'It', 'never', 'closes.', 'Wait', 'till', 'I', 'get', 'something', 'to', 'put', \"'em\", 'in.\"', 'He', 'went', 'out', 'and', 'came', 'back', 'presently', 'with', 'a', 'small', 'valise.', '\"This', 'will', 'do,\"', 'he', 'said.', '\"Stow', \"'em\", 'away,', 'and', \"I'll\", 'call', 'up', 'the', 'bank', 'and', 'arrange', 'for', 'the', 'box.\"', 'Simmonds', 'and', 'Pigot', 'rolled', 'up', 'the', 'packets', 'carefully', 'and', 'placed', 'them', 'in', 'the', 'valise,', 'while', 'I', 'sat', 'watching', 'them', 'in', 'a', 'kind', 'of', 'daze.', 'And', 'I', 'understood', 'the', 'temptation', 'which', 'would', 'assail', 'a', 'man', 'in', 'the', 'presence', 'of', 'so', 'much', 'beauty.', 'It', 'was', 'not', 'the', 'value', 'of', 'the', 'jewels', 'which', 'shook', 'and', 'dazzled', 'me', '-', 'I', 'scarcely', 'thought', 'of', 'that;', 'it', 'was', 'their', 'seductive', 'brilliance,', 'it', 'was', 'the', 'thought', 'that,', 'if', 'I', 'possessed', 'them,', 'I', 'might', 'take', 'them', 'out', 'at', 'any', 'hour', 'of', 'the', 'day', 'or', 'night', 'and', 'run', 'my', 'fingers', 'through', 'them', 'and', 'watch', 'them', 'shimmer', 'and', 'quiver', 'in', 'the', 'light.', '\"The', 'Grand', 'Duke', 'Michael', 'must', 'have', 'been', 'considerably', 'upset,\"', 'remarked', 'Simmonds,', 'who,', 'throughout', 'all', 'this', 'scene,', 'had', 'lost', 'no', 'whit', 'of', 'his', 'serenity', 'of', 'demeanour.', '\"He', 'has', 'been', 'like', 'a', 'madman,\"', 'said', 'M.', 'Pigot,', 'smiling', 'a', 'little', 'at', \"Simmonds's\", 'unemotional', 'tone.', '\"These', 'jewels', 'are', 'a', 'passion', 'with', 'him;', 'he', 'worships', 'them;', 'he', 'never', 'has', 'parted', 'with', 'them,', 'even', 'for', 'a', 'day;', 'where', 'he', 'goes,', 'they', 'have', 'gone.', 'In', 'his', 'most', 'desperate', 'need', 'of', 'money', '-', 'and', 'he', 'has', 'had', 'such', 'need', 'many', 'times', '-', 'he', 'has', 'never', 'sold', 'one', 'of', 'his', 'brilliants.', 'On', 'the', 'contrary,', 'whenever', 'he', 'has', 'money', 'or', 'credit,', 'and', 'the', 'opportunity', 'comes', 'to', 'purchase', 'a', 'stone', 'of', 'unusual', 'beauty,', 'he', 'cannot', 'resist,', 'even', 'though', 'his', 'debts', 'go', 'unpaid.', 'Since', 'the', 'loss', 'of', 'these', 'stones,', 'he', 'has', 'raved,', 'he', 'has', 'cursed,', 'he', 'has', 'beat', 'his', 'servants', '-', 'one', 'of', 'them', 'has', 'died,', 'in', 'consequence.', 'We', 'are', 'all', 'a', 'little', 'mad', 'on', 'some', 'one', 'subject,', 'I', 'have', 'heard', 'it', 'said;', 'well,', 'the', 'Grand', 'Duke', 'Michael', 'is', 'very', 'mad', 'on', 'the', 'subject', 'of', 'diamonds.\"', '\"Why', \"didn't\", 'he', 'offer', 'a', 'reward', 'for', 'their', 'return?\"', 'queried', 'Simmonds.', '\"Oh,', 'he', 'did,\"', 'said', 'M.', 'Pigot.', '\"He', 'offered', 'immediately', 'his', 'whole', 'fortune', 'for', 'their', 'return.', 'But', 'his', 'fortune', 'was', 'not', 'large', 'enough', 'to', 'tempt', 'Crochard,', 'for', 'the', 'Grand', 'Duke', 'really', 'has', 'nothing', 'but', 'the', 'income', 'from', 'his', 'family', 'estates,', 'and', 'you', 'may', 'well', 'believe', 'that', 'he', 'spends', 'all', 'of', 'it.', 'It', 'will', 'be', 'a', 'great', 'joy', 'to', 'him', 'that', 'we', 'have', 'found', 'them.\"', 'The', 'thought', 'flashed', 'through', 'my', 'mind', 'that', 'doubtless', 'M.', 'Pigot', 'was', 'in', 'the', 'way', 'of', 'receiving', 'a', 'handsome', 'present.', '\"There', 'they', 'are,\"', 'said', 'Simmonds,', 'and', 'closed', 'the', 'bag', 'with', 'a', 'snap,', 'as', 'Grady', 'came', 'in', 'again.', '\"I\\'ve', 'arranged', 'for', 'the', 'box,\"', 'said', 'Grady,', '\"and', 'one', 'of', 'our', 'wagons', 'is', 'at', 'the', 'door.', 'I', 'thought', \"we'd\", 'better', 'not', 'trust', 'a', 'taxi', '-', 'might', 'turn', 'over', 'or', 'run', 'into', 'something,', 'and', 'we', \"can't\", 'afford', 'to', 'take', 'any', 'chances', '-', 'not', 'this', 'trip.', 'Simmonds,', 'you', 'go', 'along', 'with', 'Moosseer', 'Piggott,', 'and', 'put', 'an', 'extra', 'man', 'on', 'the', 'seat', 'with', 'the', 'driver.', 'Maybe', 'that', 'Croshar', 'might', 'try', 'to', 'hold', 'you', 'up.\"', 'The', 'same', 'thought', 'was', 'in', 'my', 'own', 'mind,', 'for', 'Crochard', 'must', 'have', 'learned', 'of', 'M.', \"Pigot's\", 'arrival;', 'and', 'I', 'could', 'scarcely', 'imagine', 'that', 'he', 'would', 'sit', 'quietly', 'by', 'and', 'permit', 'the', 'jewels', 'to', 'be', 'taken', 'away', 'from', 'him', '-', 'to', 'say', 'nothing', 'of', 'his', 'chagrin', 'over', 'his', 'unfulfilled', 'boast', 'to', 'Godfrey.', 'So', 'I', 'was', 'relieved', 'that', 'Grady', 'was', 'wise', 'enough', 'to', 'take', 'no', 'risk.', '\"You\\'d', 'better', 'get', 'a', 'receipt,\"', 'Grady', 'went', 'on,', '\"and', 'arrange', 'that', 'the', 'valise', 'is', 'to', 'be', 'delivered', 'only', 'when', 'you', 'and', 'Moosseer', 'Piggott', 'appear', 'together.', 'That', 'will', 'be', 'satisfactory,', 'moosseer?\"', 'he', 'added,', 'turning', 'to', 'the', 'Frenchman.', '\"Entirely', 'so,', 'sir.\"', '\"Very', 'well,', 'then;', \"I'll\", 'see', 'you', 'in', 'the', 'morning.', 'I', 'congratulate', 'you', 'on', 'the', 'find.', 'It', 'was', 'certainly', 'great', 'work.\"', '\"I', 'thank', 'you,', 'sir,\"', 'replied', 'M.', 'Pigot,', 'gravely.', '\"Au', 'revoir,', 'monsieur,\"', 'and', 'with', 'a', 'bow', 'to', 'me,', 'he', 'followed', 'Simmonds', 'into', 'the', 'outer', 'room.', 'Grady', 'sat', 'down', 'and', 'got', 'out', 'a', 'fresh', 'cigar.', '\"Well,', 'Mr.', 'Lester,\"', 'he', 'said,', 'as', 'he', 'struck', 'a', 'match,', '\"what', 'do', 'you', 'think', 'of', 'these', 'Frenchmen,', 'anyway?\"', '\"They\\'re', 'marvellous,\"', 'I', 'said.', '\"Even', 'yet', 'I', \"can't\", 'understand', 'how', 'he', 'knew', 'so', 'much.\"', '\"Maybe', 'he', 'was', 'just', 'guessing', 'at', 'some', 'of', 'it,\"', 'Grady', 'suggested.', '\"I', 'thought', 'of', 'that;', 'but', 'I', \"don't\", 'believe', 'anybody', 'could', 'guess', 'so', 'accurately.', 'For', 'instance,', 'how', 'did', 'he', 'know', 'about', 'those', 'letters?\"', '\"Fact', 'is,\"', 'broke', 'in', 'Grady,', '\"that\\'s', 'the', 'first', \"I'd\", 'heard', 'of', \"'em.\", 'What', 'is', 'that', 'story?\"', 'I', 'told', 'him', 'the', 'story', 'briefly,', 'carefully', 'suppressing', 'everything', 'which', 'would', 'give', 'him', 'a', 'clue', 'to', 'the', 'identity', 'of', 'the', 'veiled', 'lady.', '\"There', 'were', 'certain', 'details,\"', 'I', 'added,', '\"which', 'I', 'supposed', 'were', 'known', 'to', 'no', 'one', 'except', 'myself', 'and', 'two', 'other', 'persons', '-', 'and', 'yet', 'M.', 'Pigot', 'knew', 'them.', 'Then', 'again,', 'how', 'did', 'he', 'know', 'so', 'certainly', 'just', 'how', 'the', 'mechanism', 'worked?', 'How', 'did', 'he', 'know', 'which', 'roll', 'of', 'cotton', 'contained', 'that', 'Mazarin', 'diamond?', 'You', 'will', 'remember', 'he', 'told', 'us', 'what', 'was', 'in', 'that', 'roll', 'before', 'he', 'opened', 'it.\"', 'Grady', 'smiled', 'good-naturedly', 'and', 'a', 'little', 'patronisingly.', '\"That', 'was', 'the', 'last', 'roll,', \"wasn't\", 'it?\"', 'he', 'demanded.', '\"Since', 'that', 'big', 'diamond', \"hadn't\", 'shown', 'up', 'in', 'any', 'of', 'the', 'others,', 'he', 'knew', 'it', 'had', 'to', 'be', 'in', 'that', 'roll.', 'It', 'was', 'just', 'one', 'of', 'the', 'little', 'plays', 'for', 'effect', 'them', 'Frenchies', 'are', 'so', 'fond', 'of.\"', '\"Perhaps', 'you', 'are', 'right,\"', 'I', 'agreed.', '\"But', 'it', 'seemed', 'to', 'me', 'that', 'he', 'handled', 'that', 'mechanism', 'as', 'though', 'he', 'was', 'familiar', 'with', 'it.', 'Of', 'course,', 'he', 'may', 'have', 'prepared', 'himself', 'by', 'studying', 'the', 'drawings', 'which', 'no', 'doubt', 'accompany', 'the', 'secret', 'memoir.', 'He', 'may', 'even', 'have', 'had', 'a', 'working', 'model', 'made.\"', 'Grady', 'nodded', 'tolerantly.', '\"Them', 'fellers', 'go', 'to', 'a', 'lot', 'of', 'trouble', 'over', 'little', 'things', 'like', 'that,\"', 'he', 'said.', '\"They', 'like', 'to', 'slam', 'their', 'cards', 'down', 'on', 'the', 'table', 'with', 'a', 'big', 'hurrah,', 'even', 'when', 'the', 'cards', \"ain't\", 'worth', 'a', 'damn.\"', '\"He', 'certainly', 'held', 'trumps', 'this', 'time,', 'anyway,\"', 'I', 'commented.', '\"And', 'he', 'played', 'his', 'hand', 'superbly.', 'He', 'is', 'an', 'extraordinary', 'man.\"', '\"And', 'a', 'great', 'actor,\"', 'Grady', 'supplemented.', '\"Them', 'fellers', 'always', 'behave', 'like', 'they', 'was', 'on', 'the', 'stage,', 'right', 'in', 'the', 'spot-light.', 'It', 'makes', 'me', 'a', 'little', 'tired,', 'sometimes.', 'Hello!', \"Who's\", 'that?\"', 'The', 'front', 'door', 'had', 'been', 'flung', 'open;', 'there', 'was', 'an', \"instant's\", 'colloquy', 'with', 'the', 'desk-sergeant,', 'then', 'a', 'rapid', 'step', 'crossed', 'the', 'outer', 'room,', 'and', 'Godfrey', 'burst', 'in', 'upon', 'us.', 'He', 'cast', 'a', 'rapid', 'glance', 'at', 'the', 'Boule', 'cabinet,', 'at', 'the', 'secret', 'drawer', 'standing', 'open,', 'empty;', 'and', 'then', 'his', 'eyes', 'rested', 'upon', 'Grady.', '\"So', 'he', 'got', 'away', 'with', 'it,', 'did', 'he?\"', 'he', 'inquired.', '\"Who', 'in', 'hell', 'do', 'you', 'think', 'you', 'are?\"', 'shouted', 'Grady,', 'his', 'face', 'purple,', '\"coming', 'in', 'here', 'like', 'this?', 'Get', 'out,', 'or', \"I'll\", 'have', 'you', 'thrown', 'out!\"', '\"Oh,', \"I'll\", 'go,\"', 'retorted', 'Godfrey', 'coolly.', '\"I\\'ve', 'seen', 'all', 'I', 'care', 'to', 'see.', 'Only', \"I'll\", 'tell', 'you', 'one', 'thing,', 'Grady', '-', \"you've\", 'signed', 'your', 'own', 'death-warrant', 'to-night!\"', '\"What', 'do', 'you', 'mean', 'by', 'that?\"', 'Grady', 'demanded,', 'in', 'a', 'lower', 'tone.', '\"I', 'mean', 'that', 'you', \"won't\", 'last', 'an', 'hour', 'after', 'the', 'story', 'of', 'this', \"night's\", 'work', 'gets', 'out.\"', \"Grady's\", 'colour', 'slowly', 'faded', 'as', 'he', 'met', 'the', 'burning', 'and', 'contemptuous', 'gaze', 'Godfrey', 'turned', 'upon', 'him.', 'As', 'for', 'me,', 'an', 'awful', 'fear', 'had', 'gripped', 'my', 'heart.', '\"Do', 'you', 'mean', 'to', 'say', 'it', \"wasn't\", 'Piggott?\"', 'stammered', 'Grady,', 'at', 'last.', 'Godfrey', 'laughed', 'scornfully.', '\"No,', 'you', 'blithering', 'idiot!\"', 'he', 'said.', '\"It', \"wasn't\", 'Pigot.', 'It', 'was', 'Crochard', 'himself!\"', 'And', 'he', 'stalked', 'out,', 'slamming', 'the', 'door', 'behind', 'him.', 'Whatever', 'may', 'have', 'been', \"Grady's\", 'defects', 'of', 'insight', 'and', 'imagination,', 'he', 'was', 'energetic', 'enough', 'when', 'thoroughly', 'aroused.', 'Almost', 'before', 'the', 'echo', 'of', 'that', 'slamming', 'door', 'had', 'died', 'away,', 'he', 'was', 'beside', 'the', \"sergeant's\", 'desk.', '\"Get', 'out', 'the', 'reserves,\"', 'he', 'ordered,', '\"and', 'have', 'the', 'other', 'wagon', 'around.', \"'Phone\", 'headquarters', 'to', 'rush', 'every', 'man', 'available', 'up', 'to', 'the', 'Day', 'and', 'Night', 'Bank,', 'and', 'say', \"it's\", 'from', 'me!\"', 'He', 'stood', 'chewing', 'his', 'cigar', 'savagely', 'as', 'the', 'sergeant', 'hastened', 'to', 'obey.', 'In', 'a', 'moment,', 'the', 'reserves', 'came', 'tumbling', 'out,', 'struggling', 'into', 'their', 'coats;', 'there', 'was']\n"
     ]
    }
   ],
   "source": [
    "print(corpus.head(1)[\"climax\"].to_numpy()[0].split())"
   ]
  },
  {
   "cell_type": "code",
   "execution_count": 57,
   "metadata": {},
   "outputs": [],
   "source": [
    "X = corpus['climax']\n",
    "\n",
    "y = corpus['guten_genre']"
   ]
  },
  {
   "cell_type": "code",
   "execution_count": 58,
   "metadata": {},
   "outputs": [],
   "source": [
    "X_train, X_test, y_train, y_test = train_test_split(X, y, test_size=0.5, random_state=0, stratify=y)\n",
    "\n",
    "#y_train = encoder.fit_transform(y_train)\n",
    "#y_test = encoder.fit_transform(y_test)"
   ]
  },
  {
   "cell_type": "markdown",
   "metadata": {},
   "source": [
    "# Count Vectors\n",
    "### Source: https://www.analyticsvidhya.com/blog/2018/04/a-comprehensive-guide-to-understand-and-implement-text-classification-in-python/"
   ]
  },
  {
   "cell_type": "code",
   "execution_count": 59,
   "metadata": {},
   "outputs": [],
   "source": [
    "count_vect = CountVectorizer(analyzer='word', token_pattern=r'\\w{1,}')\n",
    "count_vect.fit(corpus['climax'])\n",
    "\n",
    "xtrain_count =  count_vect.transform(X_train)\n",
    "xtest_count =  count_vect.transform(X_test)"
   ]
  },
  {
   "cell_type": "markdown",
   "metadata": {},
   "source": [
    "# TF-IDF"
   ]
  },
  {
   "cell_type": "code",
   "execution_count": 60,
   "metadata": {},
   "outputs": [
    {
     "name": "stderr",
     "output_type": "stream",
     "text": [
      "C:\\Users\\Rob\\anaconda3\\lib\\site-packages\\sklearn\\feature_extraction\\text.py:524: UserWarning: The parameter 'token_pattern' will not be used since 'analyzer' != 'word'\n",
      "  warnings.warn(\"The parameter 'token_pattern' will not be used\"\n"
     ]
    }
   ],
   "source": [
    "tfidf_vect = TfidfVectorizer(analyzer='word', token_pattern=r'\\w{1,}', max_features=500)\n",
    "tfidf_vect.fit(corpus['climax'])\n",
    "xtrain_tfidf =  tfidf_vect.transform(X_train)\n",
    "xvalid_tfidf =  tfidf_vect.transform(X_test)\n",
    "\n",
    "tfidf_vect_ngram = TfidfVectorizer(analyzer='word', token_pattern=r'\\w{1,}', ngram_range=(2,3), max_features=500)\n",
    "tfidf_vect_ngram.fit(corpus['climax'])\n",
    "xtrain_tfidf_ngram =  tfidf_vect_ngram.transform(X_train)\n",
    "xvalid_tfidf_ngram =  tfidf_vect_ngram.transform(X_test)\n",
    "\n",
    "tfidf_vect_ngram_chars = TfidfVectorizer(analyzer='char', token_pattern=r'\\w{1,}', ngram_range=(2,3), max_features=500)\n",
    "tfidf_vect_ngram_chars.fit(corpus['climax'])\n",
    "xtrain_tfidf_ngram_chars =  tfidf_vect_ngram_chars.transform(X_train) \n",
    "xvalid_tfidf_ngram_chars =  tfidf_vect_ngram_chars.transform(X_test) "
   ]
  },
  {
   "cell_type": "markdown",
   "metadata": {},
   "source": [
    "# Latent Dirichlet Allocation"
   ]
  },
  {
   "cell_type": "code",
   "execution_count": 61,
   "metadata": {},
   "outputs": [],
   "source": [
    "# train a LDA Model\n",
    "lda_model = decomposition.LatentDirichletAllocation(n_components=20, learning_method='online', max_iter=20)\n",
    "X_topics = lda_model.fit_transform(xtrain_count)\n",
    "topic_word = lda_model.components_ \n",
    "vocab = count_vect.get_feature_names()\n",
    "\n",
    "# view the topic models\n",
    "n_top_words = 10\n",
    "topic_summaries = []\n",
    "for i, topic_dist in enumerate(topic_word):\n",
    "    topic_words = np.array(vocab)[np.argsort(topic_dist)][:-(n_top_words+1):-1]\n",
    "    topic_summaries.append(' '.join(topic_words))"
   ]
  },
  {
   "cell_type": "code",
   "execution_count": 78,
   "metadata": {},
   "outputs": [],
   "source": [
    "list1 = corpus['climax'].tolist()"
   ]
  },
  {
   "cell_type": "code",
   "execution_count": 80,
   "metadata": {},
   "outputs": [],
   "source": [
    "model = gensim.models.Word2Vec(list1, min_count=1,size=300,workers=4)"
   ]
  },
  {
   "cell_type": "code",
   "execution_count": 84,
   "metadata": {},
   "outputs": [
    {
     "name": "stdout",
     "output_type": "stream",
     "text": [
      "<bound method BaseKeyedVectors.rank of <gensim.models.keyedvectors.Word2VecKeyedVectors object at 0x00000223F6C991C8>>\n"
     ]
    }
   ],
   "source": [
    "model.wv.rank"
   ]
  },
  {
   "cell_type": "code",
   "execution_count": 68,
   "metadata": {},
   "outputs": [],
   "source": [
    "col_one_list = corpus['climax'].tolist()"
   ]
  },
  {
   "cell_type": "code",
   "execution_count": null,
   "metadata": {},
   "outputs": [],
   "source": []
  }
 ],
 "metadata": {
  "kernelspec": {
   "display_name": "Python 3",
   "language": "python",
   "name": "python3"
  },
  "language_info": {
   "codemirror_mode": {
    "name": "ipython",
    "version": 3
   },
   "file_extension": ".py",
   "mimetype": "text/x-python",
   "name": "python",
   "nbconvert_exporter": "python",
   "pygments_lexer": "ipython3",
   "version": "3.7.6"
  }
 },
 "nbformat": 4,
 "nbformat_minor": 4
}
