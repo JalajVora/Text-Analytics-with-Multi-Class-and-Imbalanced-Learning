{
 "cells": [
  {
   "cell_type": "code",
   "execution_count": 1,
   "metadata": {
    "colab": {
     "base_uri": "https://localhost:8080/",
     "height": 34
    },
    "colab_type": "code",
    "executionInfo": {
     "elapsed": 4098,
     "status": "ok",
     "timestamp": 1591685595456,
     "user": {
      "displayName": "Felix Böhm",
      "photoUrl": "",
      "userId": "10526028963247519461"
     },
     "user_tz": -120
    },
    "id": "awUAhco4Ftzh",
    "outputId": "0348cb4c-7d8c-4f64-f503-25da65753169"
   },
   "outputs": [
    {
     "name": "stdout",
     "output_type": "stream",
     "text": [
      "Drive already mounted at /content/drive; to attempt to forcibly remount, call drive.mount(\"/content/drive\", force_remount=True).\n"
     ]
    }
   ],
   "source": [
    "# only for google colab\n",
    "from google.colab import drive\n",
    "drive.mount('/content/drive')\n",
    "\n",
    "import os\n",
    "os.chdir('/content/drive/My Drive/Colab Notebooks/ATiML-project-SS20')\n",
    "!cd \"/content/drive/My Drive/Colab Notebooks/ATiML-project-SS20\""
   ]
  },
  {
   "cell_type": "code",
   "execution_count": 1,
   "metadata": {
    "colab": {},
    "colab_type": "code",
    "id": "0Ebt6OclEtgu"
   },
   "outputs": [],
   "source": [
    "from corpus import load_meta_data\n",
    "from features import load_features"
   ]
  },
  {
   "cell_type": "code",
   "execution_count": 2,
   "metadata": {
    "colab": {
     "base_uri": "https://localhost:8080/",
     "height": 450
    },
    "colab_type": "code",
    "executionInfo": {
     "elapsed": 3418,
     "status": "ok",
     "timestamp": 1591685595460,
     "user": {
      "displayName": "Felix Böhm",
      "photoUrl": "",
      "userId": "10526028963247519461"
     },
     "user_tz": -120
    },
    "id": "-xJWSi4MEtgy",
    "outputId": "69fa8d1e-440e-421d-cd73-e398d15a048e"
   },
   "outputs": [
    {
     "data": {
      "text/plain": [
       "book_id\n",
       "pg10067                    Detective and Mystery\n",
       "pg1032                                  Literary\n",
       "pg10379                                 Literary\n",
       "pg10473                          Western Stories\n",
       "pg10812                                 Literary\n",
       "                                   ...          \n",
       "pg766DickensDavidCopfld                 Literary\n",
       "pg786DickensHardTimes                   Literary\n",
       "pg834DoyleMemoirsSherlk    Detective and Mystery\n",
       "pg863Agatha1               Detective and Mystery\n",
       "pg98DickensTaleCities                   Literary\n",
       "Name: guten_genre, Length: 996, dtype: object"
      ]
     },
     "execution_count": 2,
     "metadata": {},
     "output_type": "execute_result"
    }
   ],
   "source": [
    "#meta_data = load_meta_data()\n",
    "#target = meta_data.guten_genre\n",
    "#meta_data\n",
    "meta_data = load_meta_data()\n",
    "target = meta_data.guten_genre\n",
    "target"
   ]
  },
  {
   "cell_type": "code",
   "execution_count": 3,
   "metadata": {
    "colab": {
     "base_uri": "https://localhost:8080/",
     "height": 450
    },
    "colab_type": "code",
    "executionInfo": {
     "elapsed": 2937,
     "status": "ok",
     "timestamp": 1591685595461,
     "user": {
      "displayName": "Felix Böhm",
      "photoUrl": "",
      "userId": "10526028963247519461"
     },
     "user_tz": -120
    },
    "id": "WeRs2JXmEtg2",
    "outputId": "2bbf87e8-fc83-413f-ea03-4790134e288a"
   },
   "outputs": [],
   "source": [
    "#features = load_features().dropna()\n",
    "#features\n",
    "import pandas as pd\n",
    "import numpy as np\n",
    "test_features = pd.read_csv('feature_collection_test.csv', index_col='book_id')\n",
    "test_features\n",
    "train_features = pd.read_csv('feature_collection_train.csv', index_col='book_id')\n",
    "del test_features['genre']\n",
    "del train_features['genre']"
   ]
  },
  {
   "cell_type": "markdown",
   "metadata": {
    "colab_type": "text",
    "id": "_hTOiA3eGjIl"
   },
   "source": [
    "## Overview\n",
    "\n",
    "* feature scaling\n",
    "* test-train-split\n",
    "* random oversampling on train set\n",
    "* training of a decision tree\n",
    "* evaluation"
   ]
  },
  {
   "cell_type": "code",
   "execution_count": 4,
   "metadata": {
    "colab": {
     "base_uri": "https://localhost:8080/",
     "height": 173
    },
    "colab_type": "code",
    "executionInfo": {
     "elapsed": 2039,
     "status": "ok",
     "timestamp": 1591685596088,
     "user": {
      "displayName": "Felix Böhm",
      "photoUrl": "",
      "userId": "10526028963247519461"
     },
     "user_tz": -120
    },
    "id": "yTlPqGr8Etg5",
    "outputId": "940e0d7f-4def-409c-c661-c68b3a2377c5"
   },
   "outputs": [
    {
     "name": "stderr",
     "output_type": "stream",
     "text": [
      "Using TensorFlow backend.\n"
     ]
    }
   ],
   "source": [
    "import pandas as pd\n",
    "import numpy as np\n",
    "import matplotlib.pyplot as plt\n",
    "import seaborn as sns\n",
    "\n",
    "from sklearn.preprocessing import RobustScaler\n",
    "\n",
    "from sklearn.model_selection import train_test_split\n",
    "\n",
    "from imblearn.over_sampling import RandomOverSampler, SMOTE\n",
    "\n",
    "from sklearn import tree\n",
    "from sklearn.tree import DecisionTreeClassifier\n",
    "from sklearn.ensemble import RandomForestClassifier\n",
    "\n",
    "from sklearn.metrics import classification_report, confusion_matrix, balanced_accuracy_score\n",
    "from imblearn.metrics import classification_report_imbalanced"
   ]
  },
  {
   "cell_type": "code",
   "execution_count": 5,
   "metadata": {
    "colab": {
     "base_uri": "https://localhost:8080/",
     "height": 450
    },
    "colab_type": "code",
    "executionInfo": {
     "elapsed": 1322,
     "status": "ok",
     "timestamp": 1591685596089,
     "user": {
      "displayName": "Felix Böhm",
      "photoUrl": "",
      "userId": "10526028963247519461"
     },
     "user_tz": -120
    },
    "id": "YqPFjcAuIdJx",
    "outputId": "2f9a9d41-c766-4d59-acb3-e023dbb2b5ae"
   },
   "outputs": [],
   "source": [
    "from sklearn.preprocessing import StandardScaler\n",
    "scaler = StandardScaler()\n",
    "scaler.fit(train_features)\n",
    "\n",
    "train_features = pd.DataFrame(\n",
    "    scaler.transform(train_features),\n",
    "    index=train_features.index,\n",
    "    columns=train_features.columns\n",
    "  )\n",
    "test_features = pd.DataFrame(\n",
    "    scaler.transform(test_features),\n",
    "    index=test_features.index,\n",
    "    columns=test_features.columns\n",
    "  )"
   ]
  },
  {
   "cell_type": "code",
   "execution_count": 6,
   "metadata": {},
   "outputs": [
    {
     "data": {
      "text/html": [
       "<div>\n",
       "<style scoped>\n",
       "    .dataframe tbody tr th:only-of-type {\n",
       "        vertical-align: middle;\n",
       "    }\n",
       "\n",
       "    .dataframe tbody tr th {\n",
       "        vertical-align: top;\n",
       "    }\n",
       "\n",
       "    .dataframe thead th {\n",
       "        text-align: right;\n",
       "    }\n",
       "</style>\n",
       "<table border=\"1\" class=\"dataframe\">\n",
       "  <thead>\n",
       "    <tr style=\"text-align: right;\">\n",
       "      <th></th>\n",
       "      <th>title_word_count</th>\n",
       "      <th>title_avg_word_length</th>\n",
       "      <th>._count</th>\n",
       "      <th>!_count</th>\n",
       "      <th>?_count</th>\n",
       "      <th>,_count</th>\n",
       "      <th>``_count</th>\n",
       "      <th>length</th>\n",
       "      <th>proper_names</th>\n",
       "      <th>pos_sentiment</th>\n",
       "      <th>...</th>\n",
       "      <th>point_of_view</th>\n",
       "      <th>sim_alle</th>\n",
       "      <th>sim_cs</th>\n",
       "      <th>sim_dam</th>\n",
       "      <th>sim_gah</th>\n",
       "      <th>sim_hawas</th>\n",
       "      <th>sim_lit</th>\n",
       "      <th>sim_lar</th>\n",
       "      <th>sim_saa</th>\n",
       "      <th>sim_ws</th>\n",
       "    </tr>\n",
       "    <tr>\n",
       "      <th>book_id</th>\n",
       "      <th></th>\n",
       "      <th></th>\n",
       "      <th></th>\n",
       "      <th></th>\n",
       "      <th></th>\n",
       "      <th></th>\n",
       "      <th></th>\n",
       "      <th></th>\n",
       "      <th></th>\n",
       "      <th></th>\n",
       "      <th></th>\n",
       "      <th></th>\n",
       "      <th></th>\n",
       "      <th></th>\n",
       "      <th></th>\n",
       "      <th></th>\n",
       "      <th></th>\n",
       "      <th></th>\n",
       "      <th></th>\n",
       "      <th></th>\n",
       "      <th></th>\n",
       "    </tr>\n",
       "  </thead>\n",
       "  <tbody>\n",
       "    <tr>\n",
       "      <th>pg43925</th>\n",
       "      <td>1.275764</td>\n",
       "      <td>-0.440663</td>\n",
       "      <td>-0.563899</td>\n",
       "      <td>-0.050118</td>\n",
       "      <td>0.395586</td>\n",
       "      <td>1.471836</td>\n",
       "      <td>1.018312</td>\n",
       "      <td>0.453131</td>\n",
       "      <td>-0.581926</td>\n",
       "      <td>-0.231648</td>\n",
       "      <td>...</td>\n",
       "      <td>0.091478</td>\n",
       "      <td>0.011487</td>\n",
       "      <td>-1.777377</td>\n",
       "      <td>-1.065124</td>\n",
       "      <td>-1.157781</td>\n",
       "      <td>-0.850411</td>\n",
       "      <td>-1.148283</td>\n",
       "      <td>-0.524089</td>\n",
       "      <td>0.543452</td>\n",
       "      <td>-0.545842</td>\n",
       "    </tr>\n",
       "    <tr>\n",
       "      <th>pg515</th>\n",
       "      <td>0.336899</td>\n",
       "      <td>-0.321433</td>\n",
       "      <td>-0.201560</td>\n",
       "      <td>-0.193847</td>\n",
       "      <td>0.003050</td>\n",
       "      <td>1.534875</td>\n",
       "      <td>-0.854287</td>\n",
       "      <td>-0.436399</td>\n",
       "      <td>0.055502</td>\n",
       "      <td>0.141090</td>\n",
       "      <td>...</td>\n",
       "      <td>-1.497824</td>\n",
       "      <td>2.726668</td>\n",
       "      <td>1.365205</td>\n",
       "      <td>-1.548579</td>\n",
       "      <td>-0.093416</td>\n",
       "      <td>1.019905</td>\n",
       "      <td>0.439881</td>\n",
       "      <td>2.049274</td>\n",
       "      <td>0.438591</td>\n",
       "      <td>-0.451549</td>\n",
       "    </tr>\n",
       "    <tr>\n",
       "      <th>pg8182</th>\n",
       "      <td>0.023944</td>\n",
       "      <td>-0.822199</td>\n",
       "      <td>-0.601559</td>\n",
       "      <td>-0.630393</td>\n",
       "      <td>-0.036973</td>\n",
       "      <td>0.128066</td>\n",
       "      <td>-0.069948</td>\n",
       "      <td>-0.990867</td>\n",
       "      <td>-0.699061</td>\n",
       "      <td>-1.443049</td>\n",
       "      <td>...</td>\n",
       "      <td>-0.313900</td>\n",
       "      <td>0.145826</td>\n",
       "      <td>0.806313</td>\n",
       "      <td>0.546836</td>\n",
       "      <td>2.101585</td>\n",
       "      <td>0.071354</td>\n",
       "      <td>-0.141497</td>\n",
       "      <td>1.209145</td>\n",
       "      <td>1.182016</td>\n",
       "      <td>0.509006</td>\n",
       "    </tr>\n",
       "    <tr>\n",
       "      <th>pg46457</th>\n",
       "      <td>0.336899</td>\n",
       "      <td>-0.202203</td>\n",
       "      <td>1.318017</td>\n",
       "      <td>-0.100082</td>\n",
       "      <td>0.085863</td>\n",
       "      <td>-1.281674</td>\n",
       "      <td>0.370523</td>\n",
       "      <td>-0.324503</td>\n",
       "      <td>-0.244858</td>\n",
       "      <td>-2.095341</td>\n",
       "      <td>...</td>\n",
       "      <td>-0.960478</td>\n",
       "      <td>-1.164121</td>\n",
       "      <td>-1.759180</td>\n",
       "      <td>-2.019208</td>\n",
       "      <td>-2.692604</td>\n",
       "      <td>1.183043</td>\n",
       "      <td>-1.808342</td>\n",
       "      <td>-1.035576</td>\n",
       "      <td>-0.285169</td>\n",
       "      <td>2.603453</td>\n",
       "    </tr>\n",
       "    <tr>\n",
       "      <th>pg38199</th>\n",
       "      <td>1.275764</td>\n",
       "      <td>0.115745</td>\n",
       "      <td>0.239397</td>\n",
       "      <td>0.154292</td>\n",
       "      <td>-0.544711</td>\n",
       "      <td>0.701601</td>\n",
       "      <td>0.071820</td>\n",
       "      <td>-0.523305</td>\n",
       "      <td>-0.027791</td>\n",
       "      <td>-0.464610</td>\n",
       "      <td>...</td>\n",
       "      <td>0.447172</td>\n",
       "      <td>0.121858</td>\n",
       "      <td>-0.488139</td>\n",
       "      <td>-1.140717</td>\n",
       "      <td>-1.491035</td>\n",
       "      <td>1.022973</td>\n",
       "      <td>-0.953167</td>\n",
       "      <td>0.892162</td>\n",
       "      <td>2.489892</td>\n",
       "      <td>-1.310235</td>\n",
       "    </tr>\n",
       "    <tr>\n",
       "      <th>...</th>\n",
       "      <td>...</td>\n",
       "      <td>...</td>\n",
       "      <td>...</td>\n",
       "      <td>...</td>\n",
       "      <td>...</td>\n",
       "      <td>...</td>\n",
       "      <td>...</td>\n",
       "      <td>...</td>\n",
       "      <td>...</td>\n",
       "      <td>...</td>\n",
       "      <td>...</td>\n",
       "      <td>...</td>\n",
       "      <td>...</td>\n",
       "      <td>...</td>\n",
       "      <td>...</td>\n",
       "      <td>...</td>\n",
       "      <td>...</td>\n",
       "      <td>...</td>\n",
       "      <td>...</td>\n",
       "      <td>...</td>\n",
       "      <td>...</td>\n",
       "    </tr>\n",
       "    <tr>\n",
       "      <th>pg20661</th>\n",
       "      <td>0.336899</td>\n",
       "      <td>-1.036814</td>\n",
       "      <td>-0.761450</td>\n",
       "      <td>-0.904248</td>\n",
       "      <td>-0.042127</td>\n",
       "      <td>-0.269310</td>\n",
       "      <td>-0.670817</td>\n",
       "      <td>-1.268991</td>\n",
       "      <td>0.102840</td>\n",
       "      <td>2.750260</td>\n",
       "      <td>...</td>\n",
       "      <td>2.264078</td>\n",
       "      <td>1.416425</td>\n",
       "      <td>0.397219</td>\n",
       "      <td>1.455932</td>\n",
       "      <td>1.005640</td>\n",
       "      <td>0.488615</td>\n",
       "      <td>-0.196465</td>\n",
       "      <td>1.675958</td>\n",
       "      <td>1.629222</td>\n",
       "      <td>0.978989</td>\n",
       "    </tr>\n",
       "    <tr>\n",
       "      <th>pg1809</th>\n",
       "      <td>0.962809</td>\n",
       "      <td>-0.142587</td>\n",
       "      <td>1.389528</td>\n",
       "      <td>-0.945351</td>\n",
       "      <td>0.591317</td>\n",
       "      <td>-1.219634</td>\n",
       "      <td>0.655593</td>\n",
       "      <td>-0.034591</td>\n",
       "      <td>-0.187791</td>\n",
       "      <td>-0.138464</td>\n",
       "      <td>...</td>\n",
       "      <td>0.480533</td>\n",
       "      <td>0.740655</td>\n",
       "      <td>-0.710671</td>\n",
       "      <td>-1.077761</td>\n",
       "      <td>0.008285</td>\n",
       "      <td>1.756813</td>\n",
       "      <td>-0.305912</td>\n",
       "      <td>-0.222302</td>\n",
       "      <td>-0.435902</td>\n",
       "      <td>2.379134</td>\n",
       "    </tr>\n",
       "    <tr>\n",
       "      <th>pg41330</th>\n",
       "      <td>0.962809</td>\n",
       "      <td>-0.857968</td>\n",
       "      <td>-0.315022</td>\n",
       "      <td>-0.395400</td>\n",
       "      <td>0.102738</td>\n",
       "      <td>0.230836</td>\n",
       "      <td>0.159846</td>\n",
       "      <td>-0.659549</td>\n",
       "      <td>-0.837461</td>\n",
       "      <td>0.746791</td>\n",
       "      <td>...</td>\n",
       "      <td>-0.996163</td>\n",
       "      <td>0.648004</td>\n",
       "      <td>0.632694</td>\n",
       "      <td>1.643417</td>\n",
       "      <td>1.556790</td>\n",
       "      <td>-0.663414</td>\n",
       "      <td>0.474646</td>\n",
       "      <td>-0.564494</td>\n",
       "      <td>-1.311722</td>\n",
       "      <td>-0.337624</td>\n",
       "    </tr>\n",
       "    <tr>\n",
       "      <th>pg32560</th>\n",
       "      <td>0.336899</td>\n",
       "      <td>0.751639</td>\n",
       "      <td>-0.936029</td>\n",
       "      <td>-0.221453</td>\n",
       "      <td>0.209273</td>\n",
       "      <td>0.763498</td>\n",
       "      <td>-2.011847</td>\n",
       "      <td>1.230197</td>\n",
       "      <td>0.758212</td>\n",
       "      <td>0.234275</td>\n",
       "      <td>...</td>\n",
       "      <td>-0.855818</td>\n",
       "      <td>0.422665</td>\n",
       "      <td>-0.729012</td>\n",
       "      <td>-0.944554</td>\n",
       "      <td>-0.161579</td>\n",
       "      <td>-1.202745</td>\n",
       "      <td>-1.819661</td>\n",
       "      <td>-0.396078</td>\n",
       "      <td>0.757107</td>\n",
       "      <td>-1.664573</td>\n",
       "    </tr>\n",
       "    <tr>\n",
       "      <th>pg43925</th>\n",
       "      <td>1.275764</td>\n",
       "      <td>-0.440663</td>\n",
       "      <td>-0.563899</td>\n",
       "      <td>-0.050118</td>\n",
       "      <td>0.395586</td>\n",
       "      <td>1.471836</td>\n",
       "      <td>1.018312</td>\n",
       "      <td>0.453131</td>\n",
       "      <td>-0.581926</td>\n",
       "      <td>-0.231648</td>\n",
       "      <td>...</td>\n",
       "      <td>0.091478</td>\n",
       "      <td>0.011487</td>\n",
       "      <td>-1.777377</td>\n",
       "      <td>-1.065124</td>\n",
       "      <td>-1.157781</td>\n",
       "      <td>-0.850411</td>\n",
       "      <td>-1.148283</td>\n",
       "      <td>-0.524089</td>\n",
       "      <td>0.543452</td>\n",
       "      <td>-0.545842</td>\n",
       "    </tr>\n",
       "  </tbody>\n",
       "</table>\n",
       "<p>4158 rows × 22 columns</p>\n",
       "</div>"
      ],
      "text/plain": [
       "         title_word_count  title_avg_word_length   ._count   !_count  \\\n",
       "book_id                                                                \n",
       "pg43925          1.275764              -0.440663 -0.563899 -0.050118   \n",
       "pg515            0.336899              -0.321433 -0.201560 -0.193847   \n",
       "pg8182           0.023944              -0.822199 -0.601559 -0.630393   \n",
       "pg46457          0.336899              -0.202203  1.318017 -0.100082   \n",
       "pg38199          1.275764               0.115745  0.239397  0.154292   \n",
       "...                   ...                    ...       ...       ...   \n",
       "pg20661          0.336899              -1.036814 -0.761450 -0.904248   \n",
       "pg1809           0.962809              -0.142587  1.389528 -0.945351   \n",
       "pg41330          0.962809              -0.857968 -0.315022 -0.395400   \n",
       "pg32560          0.336899               0.751639 -0.936029 -0.221453   \n",
       "pg43925          1.275764              -0.440663 -0.563899 -0.050118   \n",
       "\n",
       "          ?_count   ,_count  ``_count    length  proper_names  pos_sentiment  \\\n",
       "book_id                                                                        \n",
       "pg43925  0.395586  1.471836  1.018312  0.453131     -0.581926      -0.231648   \n",
       "pg515    0.003050  1.534875 -0.854287 -0.436399      0.055502       0.141090   \n",
       "pg8182  -0.036973  0.128066 -0.069948 -0.990867     -0.699061      -1.443049   \n",
       "pg46457  0.085863 -1.281674  0.370523 -0.324503     -0.244858      -2.095341   \n",
       "pg38199 -0.544711  0.701601  0.071820 -0.523305     -0.027791      -0.464610   \n",
       "...           ...       ...       ...       ...           ...            ...   \n",
       "pg20661 -0.042127 -0.269310 -0.670817 -1.268991      0.102840       2.750260   \n",
       "pg1809   0.591317 -1.219634  0.655593 -0.034591     -0.187791      -0.138464   \n",
       "pg41330  0.102738  0.230836  0.159846 -0.659549     -0.837461       0.746791   \n",
       "pg32560  0.209273  0.763498 -2.011847  1.230197      0.758212       0.234275   \n",
       "pg43925  0.395586  1.471836  1.018312  0.453131     -0.581926      -0.231648   \n",
       "\n",
       "         ...  point_of_view  sim_alle    sim_cs   sim_dam   sim_gah  \\\n",
       "book_id  ...                                                          \n",
       "pg43925  ...       0.091478  0.011487 -1.777377 -1.065124 -1.157781   \n",
       "pg515    ...      -1.497824  2.726668  1.365205 -1.548579 -0.093416   \n",
       "pg8182   ...      -0.313900  0.145826  0.806313  0.546836  2.101585   \n",
       "pg46457  ...      -0.960478 -1.164121 -1.759180 -2.019208 -2.692604   \n",
       "pg38199  ...       0.447172  0.121858 -0.488139 -1.140717 -1.491035   \n",
       "...      ...            ...       ...       ...       ...       ...   \n",
       "pg20661  ...       2.264078  1.416425  0.397219  1.455932  1.005640   \n",
       "pg1809   ...       0.480533  0.740655 -0.710671 -1.077761  0.008285   \n",
       "pg41330  ...      -0.996163  0.648004  0.632694  1.643417  1.556790   \n",
       "pg32560  ...      -0.855818  0.422665 -0.729012 -0.944554 -0.161579   \n",
       "pg43925  ...       0.091478  0.011487 -1.777377 -1.065124 -1.157781   \n",
       "\n",
       "         sim_hawas   sim_lit   sim_lar   sim_saa    sim_ws  \n",
       "book_id                                                     \n",
       "pg43925  -0.850411 -1.148283 -0.524089  0.543452 -0.545842  \n",
       "pg515     1.019905  0.439881  2.049274  0.438591 -0.451549  \n",
       "pg8182    0.071354 -0.141497  1.209145  1.182016  0.509006  \n",
       "pg46457   1.183043 -1.808342 -1.035576 -0.285169  2.603453  \n",
       "pg38199   1.022973 -0.953167  0.892162  2.489892 -1.310235  \n",
       "...            ...       ...       ...       ...       ...  \n",
       "pg20661   0.488615 -0.196465  1.675958  1.629222  0.978989  \n",
       "pg1809    1.756813 -0.305912 -0.222302 -0.435902  2.379134  \n",
       "pg41330  -0.663414  0.474646 -0.564494 -1.311722 -0.337624  \n",
       "pg32560  -1.202745 -1.819661 -0.396078  0.757107 -1.664573  \n",
       "pg43925  -0.850411 -1.148283 -0.524089  0.543452 -0.545842  \n",
       "\n",
       "[4158 rows x 22 columns]"
      ]
     },
     "execution_count": 6,
     "metadata": {},
     "output_type": "execute_result"
    },
    {
     "data": {
      "image/png": "[encoded data removed]",
      "text/plain": [
       "<Figure size 1728x432 with 1 Axes>"
      ]
     },
     "metadata": {
      "needs_background": "light"
     },
     "output_type": "display_data"
    }
   ],
   "source": [
    "import maEva\n",
    "(X_train, X_test) = maEva.GetTrainTestFromSplit(train_features, test_features, target, draw_plot = True, use_pca = False,\n",
    "                                                            over_sample = True)\n",
    "y_train = target[X_train.index]\n",
    "y_test = target[X_test.index]\n",
    "X_train"
   ]
  },
  {
   "cell_type": "code",
   "execution_count": 7,
   "metadata": {
    "colab": {},
    "colab_type": "code",
    "id": "Vrk0PHSEGhhb"
   },
   "outputs": [],
   "source": [
    "#train, test = train_test_split(features_scaled, stratify=target[features_scaled.index])"
   ]
  },
  {
   "cell_type": "code",
   "execution_count": 8,
   "metadata": {
    "colab": {
     "base_uri": "https://localhost:8080/",
     "height": 51
    },
    "colab_type": "code",
    "executionInfo": {
     "elapsed": 602,
     "status": "ok",
     "timestamp": 1591685596610,
     "user": {
      "displayName": "Felix Böhm",
      "photoUrl": "",
      "userId": "10526028963247519461"
     },
     "user_tz": -120
    },
    "id": "3cjJGdU8G2b8",
    "outputId": "ba678e21-6626-41b4-e600-94af3a34b67e"
   },
   "outputs": [],
   "source": [
    "#x_train_res, y_train_res = RandomOverSampler().fit_resample(train, target[train.index])"
   ]
  },
  {
   "cell_type": "markdown",
   "metadata": {
    "colab_type": "text",
    "id": "wbpaVYNHvGhG"
   },
   "source": [
    "## DecisionTreeClassifier\n",
    "\n",
    "19% avg precision\n",
    "\n",
    "71% avg weigthed precision"
   ]
  },
  {
   "cell_type": "code",
   "execution_count": 30,
   "metadata": {
    "colab": {
     "base_uri": "https://localhost:8080/",
     "height": 384
    },
    "colab_type": "code",
    "executionInfo": {
     "elapsed": 4871,
     "status": "ok",
     "timestamp": 1591685602184,
     "user": {
      "displayName": "Felix Böhm",
      "photoUrl": "",
      "userId": "10526028963247519461"
     },
     "user_tz": -120
    },
    "id": "iBl_GmaXbTU5",
    "outputId": "75c7bc55-7b80-42a6-fb84-fbc986a692d1"
   },
   "outputs": [
    {
     "data": {
      "text/plain": [
       "<matplotlib.axes._subplots.AxesSubplot at 0x1a2c1452048>"
      ]
     },
     "execution_count": 30,
     "metadata": {},
     "output_type": "execute_result"
    },
    {
     "data": {
      "image/png": "[encoded data removed]",
      "text/plain": [
       "<Figure size 432x288 with 1 Axes>"
      ]
     },
     "metadata": {
      "needs_background": "light"
     },
     "output_type": "display_data"
    }
   ],
   "source": [
    "max_depths = np.arange(1, 50, 1)\n",
    "results = pd.DataFrame([], columns=['train_acc', 'test_acc'])\n",
    "\n",
    "for max_depth in max_depths:\n",
    "  clf = DecisionTreeClassifier(max_depth=max_depth)\n",
    "  clf.fit(X_train, y_train)\n",
    "\n",
    "  results.loc[max_depth] = [\n",
    "    balanced_accuracy_score(y_train, clf.predict(X_train)),\n",
    "    balanced_accuracy_score(y_test, clf.predict(X_test))\n",
    "  ]\n",
    "\n",
    "results.plot()"
   ]
  },
  {
   "cell_type": "code",
   "execution_count": 31,
   "metadata": {
    "colab": {
     "base_uri": "https://localhost:8080/",
     "height": 119
    },
    "colab_type": "code",
    "executionInfo": {
     "elapsed": 3800,
     "status": "ok",
     "timestamp": 1591685602542,
     "user": {
      "displayName": "Felix Böhm",
      "photoUrl": "",
      "userId": "10526028963247519461"
     },
     "user_tz": -120
    },
    "id": "Aw_4-P9LdyWc",
    "outputId": "ca773ffb-d50c-405c-9d17-c1693a8ca979"
   },
   "outputs": [
    {
     "data": {
      "text/plain": [
       "DecisionTreeClassifier(ccp_alpha=0.0, class_weight=None, criterion='gini',\n",
       "                       max_depth=8, max_features=None, max_leaf_nodes=None,\n",
       "                       min_impurity_decrease=0.0, min_impurity_split=None,\n",
       "                       min_samples_leaf=1, min_samples_split=2,\n",
       "                       min_weight_fraction_leaf=0.0, presort='deprecated',\n",
       "                       random_state=None, splitter='best')"
      ]
     },
     "execution_count": 31,
     "metadata": {},
     "output_type": "execute_result"
    }
   ],
   "source": [
    "clf = DecisionTreeClassifier(max_depth=8)\n",
    "clf.fit(X_train, y_train)"
   ]
  },
  {
   "cell_type": "code",
   "execution_count": 32,
   "metadata": {
    "colab": {},
    "colab_type": "code",
    "id": "ZJbAghDvgVcn"
   },
   "outputs": [],
   "source": [
    "train_pred = clf.predict(X_train)"
   ]
  },
  {
   "cell_type": "code",
   "execution_count": 33,
   "metadata": {
    "colab": {
     "base_uri": "https://localhost:8080/",
     "height": 705
    },
    "colab_type": "code",
    "executionInfo": {
     "elapsed": 3634,
     "status": "ok",
     "timestamp": 1591685603644,
     "user": {
      "displayName": "Felix Böhm",
      "photoUrl": "",
      "userId": "10526028963247519461"
     },
     "user_tz": -120
    },
    "id": "XjlJ17n9mziV",
    "outputId": "83ed1a80-d772-48f3-a6fe-01bc8aabccdb"
   },
   "outputs": [
    {
     "name": "stdout",
     "output_type": "stream",
     "text": [
      "                             precision    recall  f1-score   support\n",
      "\n",
      "      Detective and Mystery       0.83      0.84      0.84       594\n",
      "           Ghost and Horror       1.00      1.00      1.00       594\n",
      "Humorous and Wit and Satire       0.98      1.00      0.99       594\n",
      "                   Literary       0.80      0.80      0.80       594\n",
      "           Love and Romance       0.98      1.00      0.99       594\n",
      "          Sea and Adventure       0.97      0.91      0.94       594\n",
      "            Western Stories       0.99      1.00      0.99       594\n",
      "\n",
      "                   accuracy                           0.94      4158\n",
      "                  macro avg       0.94      0.94      0.94      4158\n",
      "               weighted avg       0.94      0.94      0.94      4158\n",
      "\n"
     ]
    },
    {
     "data": {
      "text/plain": [
       "<matplotlib.axes._subplots.AxesSubplot at 0x1a2c14a4a48>"
      ]
     },
     "execution_count": 33,
     "metadata": {},
     "output_type": "execute_result"
    },
    {
     "data": {
      "image/png": "[encoded data removed]",
      "text/plain": [
       "<Figure size 432x288 with 2 Axes>"
      ]
     },
     "metadata": {
      "needs_background": "light"
     },
     "output_type": "display_data"
    }
   ],
   "source": [
    "print(classification_report(y_train, train_pred))\n",
    "cm = pd.crosstab(y_train, train_pred, rownames=['Actual'], colnames=['Predicted'])\n",
    "sns.heatmap(cm, annot=True)"
   ]
  },
  {
   "cell_type": "code",
   "execution_count": 34,
   "metadata": {
    "colab": {},
    "colab_type": "code",
    "id": "aTHzJ_VSmbkT"
   },
   "outputs": [],
   "source": [
    "test_pred = clf.predict(X_test)"
   ]
  },
  {
   "cell_type": "code",
   "execution_count": 35,
   "metadata": {
    "colab": {
     "base_uri": "https://localhost:8080/",
     "height": 688
    },
    "colab_type": "code",
    "executionInfo": {
     "elapsed": 3057,
     "status": "ok",
     "timestamp": 1591685604246,
     "user": {
      "displayName": "Felix Böhm",
      "photoUrl": "",
      "userId": "10526028963247519461"
     },
     "user_tz": -120
    },
    "id": "u5O6iAE8muNI",
    "outputId": "c79f09b0-dc54-4871-a7b9-1bb263f5a245"
   },
   "outputs": [
    {
     "name": "stdout",
     "output_type": "stream",
     "text": [
      "                             precision    recall  f1-score   support\n",
      "\n",
      "      Detective and Mystery       0.34      0.54      0.42        28\n",
      "           Ghost and Horror       0.00      0.00      0.00         2\n",
      "Humorous and Wit and Satire       0.00      0.00      0.00         1\n",
      "                   Literary       0.85      0.74      0.79       198\n",
      "           Love and Romance       0.11      0.20      0.14         5\n",
      "          Sea and Adventure       0.08      0.11      0.10         9\n",
      "            Western Stories       0.33      0.60      0.43         5\n",
      "\n",
      "                   accuracy                           0.67       248\n",
      "                  macro avg       0.25      0.31      0.27       248\n",
      "               weighted avg       0.73      0.67      0.69       248\n",
      "\n"
     ]
    },
    {
     "data": {
      "text/plain": [
       "<matplotlib.axes._subplots.AxesSubplot at 0x1a2c11ddf88>"
      ]
     },
     "execution_count": 35,
     "metadata": {},
     "output_type": "execute_result"
    },
    {
     "data": {
      "image/png": "[encoded data removed]",
      "text/plain": [
       "<Figure size 432x288 with 2 Axes>"
      ]
     },
     "metadata": {
      "needs_background": "light"
     },
     "output_type": "display_data"
    }
   ],
   "source": [
    "print(classification_report(y_test, test_pred))\n",
    "cm = pd.crosstab(y_test, test_pred, rownames=['Actual'], colnames=['Predicted'])\n",
    "sns.heatmap(cm, annot=True)"
   ]
  },
  {
   "cell_type": "code",
   "execution_count": 36,
   "metadata": {},
   "outputs": [
    {
     "name": "stdout",
     "output_type": "stream",
     "text": [
      "Decision Tree: Balanced Acc: 0.3120284477427334, Adjusted Acc: 0.1973665223665223 \n"
     ]
    }
   ],
   "source": [
    "print(\"Decision Tree: Balanced Acc: {}, Adjusted Acc: {} \".format(maEva.GetAccuracy(y_test, test_pred),\n",
    "                                                                 maEva.GetAccuracy(y_test, test_pred, adjusted = True)))"
   ]
  },
  {
   "cell_type": "markdown",
   "metadata": {
    "colab_type": "text",
    "id": "UuP1JoKKvstt"
   },
   "source": [
    "## RandomForestClassifier\n",
    "\n",
    "18% avg precision\n",
    "\n",
    "73% avg weigthed precision"
   ]
  },
  {
   "cell_type": "code",
   "execution_count": 86,
   "metadata": {
    "colab": {
     "base_uri": "https://localhost:8080/",
     "height": 153
    },
    "colab_type": "code",
    "executionInfo": {
     "elapsed": 1955,
     "status": "ok",
     "timestamp": 1591685604722,
     "user": {
      "displayName": "Felix Böhm",
      "photoUrl": "",
      "userId": "10526028963247519461"
     },
     "user_tz": -120
    },
    "id": "4kCP1nxOnKoZ",
    "outputId": "2f7fa88f-b846-4ee8-d04c-0525fec78c04"
   },
   "outputs": [
    {
     "data": {
      "text/plain": [
       "RandomForestClassifier(bootstrap=True, ccp_alpha=0.0, class_weight=None,\n",
       "                       criterion='gini', max_depth=5, max_features='auto',\n",
       "                       max_leaf_nodes=None, max_samples=None,\n",
       "                       min_impurity_decrease=0.0, min_impurity_split=None,\n",
       "                       min_samples_leaf=3, min_samples_split=2,\n",
       "                       min_weight_fraction_leaf=0.0, n_estimators=200,\n",
       "                       n_jobs=None, oob_score=False, random_state=None,\n",
       "                       verbose=0, warm_start=False)"
      ]
     },
     "execution_count": 86,
     "metadata": {},
     "output_type": "execute_result"
    }
   ],
   "source": [
    "clf = RandomForestClassifier(max_depth=5, min_samples_leaf=3,n_estimators = 200)\n",
    "clf.fit(X_train, y_train)"
   ]
  },
  {
   "cell_type": "code",
   "execution_count": 87,
   "metadata": {
    "colab": {},
    "colab_type": "code",
    "id": "bPQhQkBpwCuN"
   },
   "outputs": [],
   "source": [
    "train_pred = clf.predict(X_train)"
   ]
  },
  {
   "cell_type": "code",
   "execution_count": 88,
   "metadata": {
    "colab": {
     "base_uri": "https://localhost:8080/",
     "height": 705
    },
    "colab_type": "code",
    "executionInfo": {
     "elapsed": 1594,
     "status": "ok",
     "timestamp": 1591685606127,
     "user": {
      "displayName": "Felix Böhm",
      "photoUrl": "",
      "userId": "10526028963247519461"
     },
     "user_tz": -120
    },
    "id": "Pg6IV-FMwDXb",
    "outputId": "26b3540e-fd06-4ead-e897-b4b6a176f539"
   },
   "outputs": [
    {
     "name": "stdout",
     "output_type": "stream",
     "text": [
      "                             precision    recall  f1-score   support\n",
      "\n",
      "      Detective and Mystery       0.75      0.94      0.83       594\n",
      "           Ghost and Horror       1.00      1.00      1.00       594\n",
      "Humorous and Wit and Satire       0.98      1.00      0.99       594\n",
      "                   Literary       0.95      0.60      0.73       594\n",
      "           Love and Romance       0.94      1.00      0.97       594\n",
      "          Sea and Adventure       0.93      0.92      0.92       594\n",
      "            Western Stories       0.95      1.00      0.98       594\n",
      "\n",
      "                   accuracy                           0.92      4158\n",
      "                  macro avg       0.93      0.92      0.92      4158\n",
      "               weighted avg       0.93      0.92      0.92      4158\n",
      "\n"
     ]
    },
    {
     "data": {
      "text/plain": [
       "<matplotlib.axes._subplots.AxesSubplot at 0x1a2c54b0ec8>"
      ]
     },
     "execution_count": 88,
     "metadata": {},
     "output_type": "execute_result"
    },
    {
     "data": {
      "image/png": "[encoded data removed]",
      "text/plain": [
       "<Figure size 432x288 with 2 Axes>"
      ]
     },
     "metadata": {
      "needs_background": "light"
     },
     "output_type": "display_data"
    }
   ],
   "source": [
    "print(classification_report(y_train, train_pred))\n",
    "cm = pd.crosstab(y_train, train_pred, rownames=['Actual'], colnames=['Predicted'])\n",
    "sns.heatmap(cm, annot=True)"
   ]
  },
  {
   "cell_type": "code",
   "execution_count": 89,
   "metadata": {
    "colab": {},
    "colab_type": "code",
    "id": "uVTw531TwRfO"
   },
   "outputs": [],
   "source": [
    "test_pred = clf.predict(X_test)"
   ]
  },
  {
   "cell_type": "code",
   "execution_count": 90,
   "metadata": {
    "colab": {
     "base_uri": "https://localhost:8080/",
     "height": 605
    },
    "colab_type": "code",
    "executionInfo": {
     "elapsed": 1473,
     "status": "ok",
     "timestamp": 1591685608273,
     "user": {
      "displayName": "Felix Böhm",
      "photoUrl": "",
      "userId": "10526028963247519461"
     },
     "user_tz": -120
    },
    "id": "4CNEeLMKwFXz",
    "outputId": "cf46d2dc-2b65-41a9-cdbe-6cc0b97fb026"
   },
   "outputs": [
    {
     "name": "stdout",
     "output_type": "stream",
     "text": [
      "                             precision    recall  f1-score   support\n",
      "\n",
      "      Detective and Mystery       0.32      0.89      0.48        28\n",
      "           Ghost and Horror       0.00      0.00      0.00         2\n",
      "Humorous and Wit and Satire       0.00      0.00      0.00         1\n",
      "                   Literary       0.93      0.59      0.72       198\n",
      "           Love and Romance       0.19      0.60      0.29         5\n",
      "          Sea and Adventure       0.27      0.44      0.33         9\n",
      "            Western Stories       0.25      0.60      0.35         5\n",
      "\n",
      "                   accuracy                           0.61       248\n",
      "                  macro avg       0.28      0.45      0.31       248\n",
      "               weighted avg       0.80      0.61      0.65       248\n",
      "\n"
     ]
    },
    {
     "name": "stderr",
     "output_type": "stream",
     "text": [
      "E:\\Programme\\anaconda\\envs\\tf\\lib\\site-packages\\sklearn\\metrics\\_classification.py:1272: UndefinedMetricWarning: Precision and F-score are ill-defined and being set to 0.0 in labels with no predicted samples. Use `zero_division` parameter to control this behavior.\n",
      "  _warn_prf(average, modifier, msg_start, len(result))\n"
     ]
    },
    {
     "data": {
      "text/plain": [
       "<matplotlib.axes._subplots.AxesSubplot at 0x1a2c5519388>"
      ]
     },
     "execution_count": 90,
     "metadata": {},
     "output_type": "execute_result"
    },
    {
     "data": {
      "image/png": "[encoded data removed]",
      "text/plain": [
       "<Figure size 432x288 with 2 Axes>"
      ]
     },
     "metadata": {
      "needs_background": "light"
     },
     "output_type": "display_data"
    }
   ],
   "source": [
    "print(classification_report(y_test, test_pred))\n",
    "cm = pd.crosstab(y_test, test_pred, rownames=['Actual'], colnames=['Predicted'])\n",
    "sns.heatmap(cm, annot=True)"
   ]
  },
  {
   "cell_type": "code",
   "execution_count": 91,
   "metadata": {},
   "outputs": [
    {
     "name": "stdout",
     "output_type": "stream",
     "text": [
      "Random Forest: Balanced Acc: 0.44616573902288187, Adjusted Acc: 0.3538600288600288 \n"
     ]
    }
   ],
   "source": [
    "print(\"Random Forest: Balanced Acc: {}, Adjusted Acc: {} \".format(maEva.GetAccuracy(y_test, test_pred),\n",
    "                                                                 maEva.GetAccuracy(y_test, test_pred, adjusted = True)))"
   ]
  },
  {
   "cell_type": "code",
   "execution_count": 49,
   "metadata": {
    "colab": {
     "base_uri": "https://localhost:8080/",
     "height": 452
    },
    "colab_type": "code",
    "executionInfo": {
     "elapsed": 590,
     "status": "ok",
     "timestamp": 1591685608274,
     "user": {
      "displayName": "Felix Böhm",
      "photoUrl": "",
      "userId": "10526028963247519461"
     },
     "user_tz": -120
    },
    "id": "uw7Ax27-y1QJ",
    "outputId": "00f2b99c-32d0-4475-b778-aacb444145c1"
   },
   "outputs": [
    {
     "data": {
      "text/html": [
       "<div>\n",
       "<style scoped>\n",
       "    .dataframe tbody tr th:only-of-type {\n",
       "        vertical-align: middle;\n",
       "    }\n",
       "\n",
       "    .dataframe tbody tr th {\n",
       "        vertical-align: top;\n",
       "    }\n",
       "\n",
       "    .dataframe thead th {\n",
       "        text-align: right;\n",
       "    }\n",
       "</style>\n",
       "<table border=\"1\" class=\"dataframe\">\n",
       "  <thead>\n",
       "    <tr style=\"text-align: right;\">\n",
       "      <th></th>\n",
       "      <th>feature_importance</th>\n",
       "    </tr>\n",
       "  </thead>\n",
       "  <tbody>\n",
       "    <tr>\n",
       "      <th>title_word_count</th>\n",
       "      <td>0.023146</td>\n",
       "    </tr>\n",
       "    <tr>\n",
       "      <th>title_avg_word_length</th>\n",
       "      <td>0.022099</td>\n",
       "    </tr>\n",
       "    <tr>\n",
       "      <th>._count</th>\n",
       "      <td>0.061943</td>\n",
       "    </tr>\n",
       "    <tr>\n",
       "      <th>!_count</th>\n",
       "      <td>0.037604</td>\n",
       "    </tr>\n",
       "    <tr>\n",
       "      <th>?_count</th>\n",
       "      <td>0.046063</td>\n",
       "    </tr>\n",
       "    <tr>\n",
       "      <th>,_count</th>\n",
       "      <td>0.042778</td>\n",
       "    </tr>\n",
       "    <tr>\n",
       "      <th>``_count</th>\n",
       "      <td>0.040759</td>\n",
       "    </tr>\n",
       "    <tr>\n",
       "      <th>length</th>\n",
       "      <td>0.034099</td>\n",
       "    </tr>\n",
       "    <tr>\n",
       "      <th>proper_names</th>\n",
       "      <td>0.051299</td>\n",
       "    </tr>\n",
       "    <tr>\n",
       "      <th>pos_sentiment</th>\n",
       "      <td>0.072914</td>\n",
       "    </tr>\n",
       "    <tr>\n",
       "      <th>neu_sentiment</th>\n",
       "      <td>0.039631</td>\n",
       "    </tr>\n",
       "    <tr>\n",
       "      <th>neg_sentiment</th>\n",
       "      <td>0.026346</td>\n",
       "    </tr>\n",
       "    <tr>\n",
       "      <th>point_of_view</th>\n",
       "      <td>0.032909</td>\n",
       "    </tr>\n",
       "    <tr>\n",
       "      <th>sim_alle</th>\n",
       "      <td>0.022049</td>\n",
       "    </tr>\n",
       "    <tr>\n",
       "      <th>sim_cs</th>\n",
       "      <td>0.042218</td>\n",
       "    </tr>\n",
       "    <tr>\n",
       "      <th>sim_dam</th>\n",
       "      <td>0.041514</td>\n",
       "    </tr>\n",
       "    <tr>\n",
       "      <th>sim_gah</th>\n",
       "      <td>0.100428</td>\n",
       "    </tr>\n",
       "    <tr>\n",
       "      <th>sim_hawas</th>\n",
       "      <td>0.072228</td>\n",
       "    </tr>\n",
       "    <tr>\n",
       "      <th>sim_lit</th>\n",
       "      <td>0.046544</td>\n",
       "    </tr>\n",
       "    <tr>\n",
       "      <th>sim_lar</th>\n",
       "      <td>0.032054</td>\n",
       "    </tr>\n",
       "    <tr>\n",
       "      <th>sim_saa</th>\n",
       "      <td>0.035782</td>\n",
       "    </tr>\n",
       "    <tr>\n",
       "      <th>sim_ws</th>\n",
       "      <td>0.075593</td>\n",
       "    </tr>\n",
       "  </tbody>\n",
       "</table>\n",
       "</div>"
      ],
      "text/plain": [
       "                       feature_importance\n",
       "title_word_count                 0.023146\n",
       "title_avg_word_length            0.022099\n",
       "._count                          0.061943\n",
       "!_count                          0.037604\n",
       "?_count                          0.046063\n",
       ",_count                          0.042778\n",
       "``_count                         0.040759\n",
       "length                           0.034099\n",
       "proper_names                     0.051299\n",
       "pos_sentiment                    0.072914\n",
       "neu_sentiment                    0.039631\n",
       "neg_sentiment                    0.026346\n",
       "point_of_view                    0.032909\n",
       "sim_alle                         0.022049\n",
       "sim_cs                           0.042218\n",
       "sim_dam                          0.041514\n",
       "sim_gah                          0.100428\n",
       "sim_hawas                        0.072228\n",
       "sim_lit                          0.046544\n",
       "sim_lar                          0.032054\n",
       "sim_saa                          0.035782\n",
       "sim_ws                           0.075593"
      ]
     },
     "execution_count": 49,
     "metadata": {},
     "output_type": "execute_result"
    }
   ],
   "source": [
    "pd.DataFrame(clf.feature_importances_, index=X_test.columns, columns=['feature_importance'])"
   ]
  },
  {
   "cell_type": "code",
   "execution_count": 0,
   "metadata": {
    "colab": {},
    "colab_type": "code",
    "id": "6sRYYKjRzmq6"
   },
   "outputs": [],
   "source": []
  }
 ],
 "metadata": {
  "colab": {
   "name": "classification.ipynb",
   "provenance": []
  },
  "kernelspec": {
   "display_name": "Python 3",
   "language": "python",
   "name": "python3"
  },
  "language_info": {
   "codemirror_mode": {
    "name": "ipython",
    "version": 3
   },
   "file_extension": ".py",
   "mimetype": "text/x-python",
   "name": "python",
   "nbconvert_exporter": "python",
   "pygments_lexer": "ipython3",
   "version": "3.7.7"
  }
 },
 "nbformat": 4,
 "nbformat_minor": 1
}
